{
 "cells": [
  {
   "cell_type": "code",
   "execution_count": 1,
   "metadata": {},
   "outputs": [],
   "source": [
    "Verbose = False\n",
    "if Verbose:\n",
    "    def vprint(*args, **kwargs): print(*args, **kwargs, flush=True)\n",
    "else: # do-nothing function\n",
    "    def vprint(*args, **kwargs): None"
   ]
  },
  {
   "cell_type": "code",
   "execution_count": 2,
   "metadata": {},
   "outputs": [],
   "source": [
    "import torch\n",
    "import numpy as np\n",
    "import pandas as pd\n",
    "pd.set_option(\"display.width\", 380)\n",
    "pd.set_option('max_colwidth', 100)\n",
    "\n",
    "import matplotlib.pyplot as plt\n",
    "\n",
    "from IPython.display import display\n",
    "\n",
    "device = torch.device('cuda:1' if torch.cuda.is_available() else 'cpu')"
   ]
  },
  {
   "cell_type": "markdown",
   "metadata": {},
   "source": [
    "# Load the sentences"
   ]
  },
  {
   "cell_type": "code",
   "execution_count": 3,
   "metadata": {
    "scrolled": true
   },
   "outputs": [],
   "source": [
    "df_train = pd.read_csv(\"./sick_train/SICK_train.txt\", sep=\"\\t\")\n",
    "df_train = df_train.drop(['relatedness_score'], axis=1)\n",
    "\n",
    "df_dev = pd.read_csv(\"./sick_trial/SICK_trial.txt\", sep=\"\\t\")\n",
    "df_dev = df_dev.drop(['relatedness_score'], axis=1)\n",
    "\n",
    "df_test = pd.read_csv(\"./sick_test/SICK_test.txt\", sep=\"\\t\")\n",
    "df_test = df_test.drop(['relatedness_score'], axis=1)"
   ]
  },
  {
   "cell_type": "code",
   "execution_count": 4,
   "metadata": {},
   "outputs": [],
   "source": [
    "from torch.utils.data import Dataset\n",
    "from torch.utils.data.dataloader import DataLoader"
   ]
  },
  {
   "cell_type": "code",
   "execution_count": 5,
   "metadata": {},
   "outputs": [],
   "source": [
    "from gensim import corpora\n",
    "from collections import Counter"
   ]
  },
  {
   "cell_type": "code",
   "execution_count": 9,
   "metadata": {
    "scrolled": false
   },
   "outputs": [],
   "source": [
    "class SickDataset(Dataset):\n",
    "    endOfSentence   = '</s>'\n",
    "    startOfSentence = '<s>'\n",
    "    separator2Sentences = '<sep>'\n",
    "    \n",
    "    text_label = [\"NEUTRAL\", \"ENTAILMENT\", \"CONTRADICTION\"]\n",
    "    \n",
    "    tokens = [startOfSentence, separator2Sentences, endOfSentence]\n",
    "    \n",
    "    def join_sentence(self, row):\n",
    "        \"\"\"\n",
    "        Create a new sentence (<s> + s_A + <sep> + s_B + </s>)\n",
    "        \"\"\"\n",
    "        sentence_a = row['sentence_A'].lower().split(\" \")\n",
    "        sentence_b = row['sentence_B'].lower().split(\" \")\n",
    "        return np.concatenate((\n",
    "            [self.startOfSentence],\n",
    "            sentence_a,\n",
    "            [self.separator2Sentences],\n",
    "            sentence_b,\n",
    "            [self.endOfSentence]\n",
    "        ))\n",
    "    \n",
    "    def series_text_2_labelID(self, series, keep_n=1000):\n",
    "        \"\"\"\n",
    "        Convert text Label into label id\n",
    "        \"\"\"\n",
    "        reverse_dict = {v: k for k, v in  dict(enumerate(self.text_label)).items()}\n",
    "        return series.map(reverse_dict)\n",
    "    \n",
    "    def series_2_dict(self, series, keep_n):\n",
    "        \"\"\"\n",
    "        Convert document (a list of words) into a list of indexes\n",
    "        AND apply some filter on the documents\n",
    "        \"\"\"\n",
    "        dictionary = corpora.Dictionary(series)\n",
    "        dictionary.filter_extremes(\n",
    "            no_below=1,\n",
    "            no_above=1,\n",
    "            keep_n=keep_n,\n",
    "            keep_tokens=self.tokens)\n",
    "        return dictionary\n",
    "    \n",
    "    \n",
    "    def __init__(self, df, vocabulary_size, dic=None):\n",
    "        self.vocabulary_size = vocabulary_size\n",
    "        \n",
    "        # Label text as ids\n",
    "        df[\"entailment_id\"] = self.series_text_2_labelID(df['entailment_judgment'])\n",
    "        \n",
    "        # Add <s>,</s>,<sep> tokens to the vocabulary\n",
    "        df['sentence_AB'] = df.apply(self.join_sentence, axis=1)\n",
    "        \n",
    "        # check if the dictionary is given\n",
    "        if dic is None:\n",
    "            # Create the Dictionary\n",
    "            self.dictionary = self.series_2_dict(df['sentence_AB'], vocabulary_size)\n",
    "        else:\n",
    "            self.dictionary = dic\n",
    "        \n",
    "        # sentence of words -> array of idx\n",
    "        # Adds unknown to the voc (idx = len(dictionary)), len(dictionary) = vocabulary_size\n",
    "        # Adds one to each (no tokens at 0, even <unk>)\n",
    "        # 0 is for the padding when using mini-batch\n",
    "        df[\"word_idx\"] = df[\"sentence_AB\"].apply(\n",
    "            lambda word: np.array(self.dictionary.doc2idx(word, unknown_word_index=vocabulary_size)) + 1\n",
    "        )\n",
    "        \n",
    "        self.df = df\n",
    "\n",
    "        # compute a sorted occurence dictionary on the whole corpus\n",
    "        occ_dict = {}\n",
    "        for serie in df['sentence_AB']:\n",
    "            unique, counts = np.unique(serie, return_counts=True)\n",
    "            tmp_dict = dict(zip(unique, counts))\n",
    "            \n",
    "            for key, value in tmp_dict.items():\n",
    "                if key in occ_dict:\n",
    "                    occ_dict[key] = occ_dict[key] + tmp_dict[key]\n",
    "                else:\n",
    "                    occ_dict[key] = value\n",
    "        \n",
    "        self.occ_dict_list = [[key, value] for key, value in occ_dict.items()]\n",
    "        self.occ_dict_list.sort(key=lambda x: x[1], reverse=True)\n",
    "        \n",
    "    def getSortedOccDictList(self):\n",
    "        return self.occ_dict_list\n",
    "    \n",
    "    def plotVocabularyCoverage(self):\n",
    "        occdict_list = self.occ_dict_list\n",
    "        \n",
    "        total = 0\n",
    "        y = []\n",
    "        for i, value in enumerate(occdict_list):\n",
    "            total += value[1]\n",
    "            y.append(total)\n",
    "            if (i == self.vocabulary_size):\n",
    "                current_voc_cov = total\n",
    "\n",
    "        current_voc_cov = current_voc_cov*100.0/total\n",
    "        \n",
    "        y = [tmp*100.0/total for tmp in y]\n",
    "\n",
    "        x = np.linspace(0, len(occdict_list), len(occdict_list))\n",
    "\n",
    "        # Show graph\n",
    "        fig_size = plt.rcParams[\"figure.figsize\"]\n",
    "        fig_size[0] = 20\n",
    "        fig_size[1] = 9\n",
    "        plt.rcParams[\"figure.figsize\"] = fig_size\n",
    "\n",
    "        legend, = plt.plot(x, y, label='Vocabulary size ')\n",
    "\n",
    "        plt.title(('Current vocabulary size n=' + str(self.vocabulary_size) + ' coverage = ' +\"{:.4}\".format(current_voc_cov) + '%'),\n",
    "                     fontsize=14, fontweight='bold', color='gray')\n",
    "        plt.suptitle(('Vocabulary coverage'),\n",
    "                     fontsize=24, fontweight='bold', color='gray')\n",
    "        plt.xlabel(\"Size of unique vocabulary\", color='gray', fontsize=14)\n",
    "        plt.ylabel(\"Vocabulary coverage %\", color='gray', fontsize=14)\n",
    "\n",
    "        ## Plot Swagg ##\n",
    "        plt.yticks(fontsize=14, rotation=0, color='gray')\n",
    "        plt.xticks(fontsize=14, rotation=0, color='gray')\n",
    "\n",
    "        # Less border\n",
    "        plt.gca().xaxis.grid(True)\n",
    "        plt.gca().yaxis.grid(True)\n",
    "        plt.gca().spines['top'].set_visible(False)\n",
    "        plt.gca().spines['right'].set_visible(False)\n",
    "        plt.gca().spines['left'].set_visible(False)\n",
    "        plt.gca().spines['bottom'].set_visible(False)\n",
    "        plt.show()\n",
    "        \n",
    "        \n",
    "        \n",
    "    def getRef(self, index):\n",
    "        return self.df['sentence_AB'][index]\n",
    "        \n",
    "    def __getitem__(self, index):\n",
    "        return (\n",
    "            self.df['word_idx'][index],\n",
    "            self.df['entailment_id'][index])\n",
    "    \n",
    "    def getDictionary(self):\n",
    "        return self.dictionary\n",
    "    \n",
    "    def __len__(self):\n",
    "        return len(self.df)\n",
    "\n",
    "    \n",
    "vocabulary_size = 1500"
   ]
  },
  {
   "cell_type": "markdown",
   "metadata": {},
   "source": [
    "# Dataset"
   ]
  },
  {
   "cell_type": "code",
   "execution_count": 10,
   "metadata": {},
   "outputs": [
    {
     "data": {
      "text/html": [
       "<div>\n",
       "<style scoped>\n",
       "    .dataframe tbody tr th:only-of-type {\n",
       "        vertical-align: middle;\n",
       "    }\n",
       "\n",
       "    .dataframe tbody tr th {\n",
       "        vertical-align: top;\n",
       "    }\n",
       "\n",
       "    .dataframe thead th {\n",
       "        text-align: right;\n",
       "    }\n",
       "</style>\n",
       "<table border=\"1\" class=\"dataframe\">\n",
       "  <thead>\n",
       "    <tr style=\"text-align: right;\">\n",
       "      <th></th>\n",
       "      <th>pair_ID</th>\n",
       "      <th>sentence_A</th>\n",
       "      <th>sentence_B</th>\n",
       "      <th>entailment_judgment</th>\n",
       "      <th>entailment_id</th>\n",
       "      <th>sentence_AB</th>\n",
       "      <th>word_idx</th>\n",
       "    </tr>\n",
       "  </thead>\n",
       "  <tbody>\n",
       "    <tr>\n",
       "      <th>0</th>\n",
       "      <td>1</td>\n",
       "      <td>A group of kids is playing in a yard and an old man is standing in the background</td>\n",
       "      <td>A group of boys in a yard is playing and a man is standing in the background</td>\n",
       "      <td>NEUTRAL</td>\n",
       "      <td>0</td>\n",
       "      <td>[&lt;s&gt;, a, group, of, kids, is, playing, in, a, yard, and, an, old, man, is, standing, in, the, ba...</td>\n",
       "      <td>[2, 4, 9, 14, 12, 11, 16, 10, 4, 19, 6, 5, 15, 13, 11, 17, 10, 18, 7, 3, 4, 9, 14, 8, 10, 4, 19,...</td>\n",
       "    </tr>\n",
       "    <tr>\n",
       "      <th>1</th>\n",
       "      <td>2</td>\n",
       "      <td>A group of children is playing in the house and there is no man standing in the background</td>\n",
       "      <td>A group of kids is playing in a yard and an old man is standing in the background</td>\n",
       "      <td>NEUTRAL</td>\n",
       "      <td>0</td>\n",
       "      <td>[&lt;s&gt;, a, group, of, children, is, playing, in, the, house, and, there, is, no, man, standing, in...</td>\n",
       "      <td>[2, 4, 9, 14, 20, 11, 16, 10, 18, 21, 6, 23, 11, 22, 13, 17, 10, 18, 7, 3, 4, 9, 14, 12, 11, 16,...</td>\n",
       "    </tr>\n",
       "    <tr>\n",
       "      <th>2</th>\n",
       "      <td>3</td>\n",
       "      <td>The young boys are playing outdoors and the man is smiling nearby</td>\n",
       "      <td>The kids are playing outdoors near a man with a smile</td>\n",
       "      <td>ENTAILMENT</td>\n",
       "      <td>1</td>\n",
       "      <td>[&lt;s&gt;, the, young, boys, are, playing, outdoors, and, the, man, is, smiling, nearby, &lt;sep&gt;, the, ...</td>\n",
       "      <td>[2, 18, 30, 8, 24, 16, 26, 6, 18, 13, 11, 28, 1501, 3, 18, 12, 24, 16, 26, 25, 4, 13, 29, 4, 27, 1]</td>\n",
       "    </tr>\n",
       "    <tr>\n",
       "      <th>3</th>\n",
       "      <td>5</td>\n",
       "      <td>The kids are playing outdoors near a man with a smile</td>\n",
       "      <td>A group of kids is playing in a yard and an old man is standing in the background</td>\n",
       "      <td>NEUTRAL</td>\n",
       "      <td>0</td>\n",
       "      <td>[&lt;s&gt;, the, kids, are, playing, outdoors, near, a, man, with, a, smile, &lt;sep&gt;, a, group, of, kids...</td>\n",
       "      <td>[2, 18, 12, 24, 16, 26, 25, 4, 13, 29, 4, 27, 3, 4, 9, 14, 12, 11, 16, 10, 4, 19, 6, 5, 15, 13, ...</td>\n",
       "    </tr>\n",
       "    <tr>\n",
       "      <th>4</th>\n",
       "      <td>9</td>\n",
       "      <td>The young boys are playing outdoors and the man is smiling nearby</td>\n",
       "      <td>A group of kids is playing in a yard and an old man is standing in the background</td>\n",
       "      <td>NEUTRAL</td>\n",
       "      <td>0</td>\n",
       "      <td>[&lt;s&gt;, the, young, boys, are, playing, outdoors, and, the, man, is, smiling, nearby, &lt;sep&gt;, a, gr...</td>\n",
       "      <td>[2, 18, 30, 8, 24, 16, 26, 6, 18, 13, 11, 28, 1501, 3, 4, 9, 14, 12, 11, 16, 10, 4, 19, 6, 5, 15...</td>\n",
       "    </tr>\n",
       "  </tbody>\n",
       "</table>\n",
       "</div>"
      ],
      "text/plain": [
       "   pair_ID                                                                                  sentence_A                                                                         sentence_B entailment_judgment  entailment_id                                                                                          sentence_AB  \\\n",
       "0        1           A group of kids is playing in a yard and an old man is standing in the background       A group of boys in a yard is playing and a man is standing in the background             NEUTRAL              0  [<s>, a, group, of, kids, is, playing, in, a, yard, and, an, old, man, is, standing, in, the, ba...   \n",
       "1        2  A group of children is playing in the house and there is no man standing in the background  A group of kids is playing in a yard and an old man is standing in the background             NEUTRAL              0  [<s>, a, group, of, children, is, playing, in, the, house, and, there, is, no, man, standing, in...   \n",
       "2        3                           The young boys are playing outdoors and the man is smiling nearby                              The kids are playing outdoors near a man with a smile          ENTAILMENT              1  [<s>, the, young, boys, are, playing, outdoors, and, the, man, is, smiling, nearby, <sep>, the, ...   \n",
       "3        5                                       The kids are playing outdoors near a man with a smile  A group of kids is playing in a yard and an old man is standing in the background             NEUTRAL              0  [<s>, the, kids, are, playing, outdoors, near, a, man, with, a, smile, <sep>, a, group, of, kids...   \n",
       "4        9                           The young boys are playing outdoors and the man is smiling nearby  A group of kids is playing in a yard and an old man is standing in the background             NEUTRAL              0  [<s>, the, young, boys, are, playing, outdoors, and, the, man, is, smiling, nearby, <sep>, a, gr...   \n",
       "\n",
       "                                                                                              word_idx  \n",
       "0  [2, 4, 9, 14, 12, 11, 16, 10, 4, 19, 6, 5, 15, 13, 11, 17, 10, 18, 7, 3, 4, 9, 14, 8, 10, 4, 19,...  \n",
       "1  [2, 4, 9, 14, 20, 11, 16, 10, 18, 21, 6, 23, 11, 22, 13, 17, 10, 18, 7, 3, 4, 9, 14, 12, 11, 16,...  \n",
       "2  [2, 18, 30, 8, 24, 16, 26, 6, 18, 13, 11, 28, 1501, 3, 18, 12, 24, 16, 26, 25, 4, 13, 29, 4, 27, 1]  \n",
       "3  [2, 18, 12, 24, 16, 26, 25, 4, 13, 29, 4, 27, 3, 4, 9, 14, 12, 11, 16, 10, 4, 19, 6, 5, 15, 13, ...  \n",
       "4  [2, 18, 30, 8, 24, 16, 26, 6, 18, 13, 11, 28, 1501, 3, 4, 9, 14, 12, 11, 16, 10, 4, 19, 6, 5, 15...  "
      ]
     },
     "execution_count": 10,
     "metadata": {},
     "output_type": "execute_result"
    }
   ],
   "source": [
    "# Create the train dataset\n",
    "sick_dataset_train = SickDataset(df_train, vocabulary_size)\n",
    "sick_dataset_train.df.head()"
   ]
  },
  {
   "cell_type": "code",
   "execution_count": 11,
   "metadata": {},
   "outputs": [
    {
     "data": {
      "image/png": "[encoded data removed]",
      "text/plain": [
       "<Figure size 1440x648 with 1 Axes>"
      ]
     },
     "metadata": {
      "needs_background": "dark"
     },
     "output_type": "display_data"
    }
   ],
   "source": [
    "sick_dataset_train.plotVocabularyCoverage()"
   ]
  },
  {
   "cell_type": "code",
   "execution_count": 12,
   "metadata": {},
   "outputs": [],
   "source": [
    "# Create the dev dataset\n",
    "dictionary_train = sick_dataset_train.getDictionary()\n",
    "\n",
    "sick_dataset_dev = SickDataset(df_dev, vocabulary_size, dictionary_train)"
   ]
  },
  {
   "cell_type": "code",
   "execution_count": 13,
   "metadata": {},
   "outputs": [],
   "source": [
    "# Create the test dataset\n",
    "sick_dataset_test = SickDataset(df_test, vocabulary_size, dictionary_train)"
   ]
  },
  {
   "cell_type": "code",
   "execution_count": 14,
   "metadata": {
    "scrolled": true
   },
   "outputs": [
    {
     "data": {
      "text/html": [
       "<div>\n",
       "<style scoped>\n",
       "    .dataframe tbody tr th:only-of-type {\n",
       "        vertical-align: middle;\n",
       "    }\n",
       "\n",
       "    .dataframe tbody tr th {\n",
       "        vertical-align: top;\n",
       "    }\n",
       "\n",
       "    .dataframe thead th {\n",
       "        text-align: right;\n",
       "    }\n",
       "</style>\n",
       "<table border=\"1\" class=\"dataframe\">\n",
       "  <thead>\n",
       "    <tr style=\"text-align: right;\">\n",
       "      <th></th>\n",
       "      <th>0</th>\n",
       "      <th>1</th>\n",
       "      <th>2</th>\n",
       "      <th>3</th>\n",
       "      <th>4</th>\n",
       "      <th>5</th>\n",
       "      <th>6</th>\n",
       "      <th>7</th>\n",
       "      <th>8</th>\n",
       "      <th>9</th>\n",
       "      <th>...</th>\n",
       "      <th>16</th>\n",
       "      <th>17</th>\n",
       "      <th>18</th>\n",
       "      <th>19</th>\n",
       "      <th>20</th>\n",
       "      <th>21</th>\n",
       "      <th>22</th>\n",
       "      <th>23</th>\n",
       "      <th>24</th>\n",
       "      <th>25</th>\n",
       "    </tr>\n",
       "  </thead>\n",
       "  <tbody>\n",
       "    <tr>\n",
       "      <th>0</th>\n",
       "      <td>&lt;s&gt;</td>\n",
       "      <td>the</td>\n",
       "      <td>young</td>\n",
       "      <td>boys</td>\n",
       "      <td>are</td>\n",
       "      <td>playing</td>\n",
       "      <td>outdoors</td>\n",
       "      <td>and</td>\n",
       "      <td>the</td>\n",
       "      <td>man</td>\n",
       "      <td>...</td>\n",
       "      <td>are</td>\n",
       "      <td>playing</td>\n",
       "      <td>outdoors</td>\n",
       "      <td>near</td>\n",
       "      <td>a</td>\n",
       "      <td>man</td>\n",
       "      <td>with</td>\n",
       "      <td>a</td>\n",
       "      <td>smile</td>\n",
       "      <td>&lt;/s&gt;</td>\n",
       "    </tr>\n",
       "    <tr>\n",
       "      <th>1</th>\n",
       "      <td>2</td>\n",
       "      <td>18</td>\n",
       "      <td>30</td>\n",
       "      <td>8</td>\n",
       "      <td>24</td>\n",
       "      <td>16</td>\n",
       "      <td>26</td>\n",
       "      <td>6</td>\n",
       "      <td>18</td>\n",
       "      <td>13</td>\n",
       "      <td>...</td>\n",
       "      <td>24</td>\n",
       "      <td>16</td>\n",
       "      <td>26</td>\n",
       "      <td>25</td>\n",
       "      <td>4</td>\n",
       "      <td>13</td>\n",
       "      <td>29</td>\n",
       "      <td>4</td>\n",
       "      <td>27</td>\n",
       "      <td>1</td>\n",
       "    </tr>\n",
       "  </tbody>\n",
       "</table>\n",
       "<p>2 rows × 26 columns</p>\n",
       "</div>"
      ],
      "text/plain": [
       "    0    1      2     3    4        5         6    7    8    9   ...    16       17        18    19 20   21    22 23     24    25\n",
       "0  <s>  the  young  boys  are  playing  outdoors  and  the  man  ...   are  playing  outdoors  near  a  man  with  a  smile  </s>\n",
       "1    2   18     30     8   24       16        26    6   18   13  ...    24       16        26    25  4   13    29  4     27     1\n",
       "\n",
       "[2 rows x 26 columns]"
      ]
     },
     "execution_count": 14,
     "metadata": {},
     "output_type": "execute_result"
    }
   ],
   "source": [
    "pd.DataFrame(list(zip(sick_dataset_train.getRef(2), sick_dataset_train[2][0]))).T"
   ]
  },
  {
   "cell_type": "markdown",
   "metadata": {},
   "source": [
    "# Pretrained embeddings\n",
    "https://medium.com/@martinpella/how-to-use-pre-trained-word-embeddings-in-pytorch-71ca59249f76  \n",
    "For each word in dataset’s vocabulary, we check if it is on GloVe’s vocabulary. If it do it, we load its pre-trained word vector. Otherwise, we initialize a random vector."
   ]
  },
  {
   "cell_type": "code",
   "execution_count": 15,
   "metadata": {},
   "outputs": [],
   "source": [
    "EMBEDDINGS_SIZE = 50"
   ]
  },
  {
   "cell_type": "code",
   "execution_count": 16,
   "metadata": {},
   "outputs": [
    {
     "name": "stdout",
     "output_type": "stream",
     "text": [
      "Downloaded: Pretained Embedding matrix: torch.Size([400000, 50])\n",
      "Adapted:    Pretained Embedding matrix: torch.Size([1502, 50])\n"
     ]
    }
   ],
   "source": [
    "from torchtext import vocab\n",
    "#vocab is shared across all the text fields\n",
    "#CAUTION: GloVe will download all embeddings locally (862 MB).\n",
    "pretrained_emb = vocab.GloVe(name='6B', dim=EMBEDDINGS_SIZE)\n",
    "\n",
    "# 0 is for the padding when using mini-batch (start at one, shift by one)\n",
    "weights_matrix = np.zeros((vocabulary_size + 2, EMBEDDINGS_SIZE)) # do not forget the unk\n",
    "\n",
    "# build a matrix of weights that will be loaded into the PyTorch embedding layer\n",
    "for word_id in sick_dataset_train.dictionary:\n",
    "    word = sick_dataset_train.dictionary[word_id]\n",
    "    if word in pretrained_emb.stoi:\n",
    "        pretrained_emb_ID = pretrained_emb.stoi[word]\n",
    "        \n",
    "        weights_matrix[word_id+1] = pretrained_emb.vectors[pretrained_emb_ID]\n",
    "    else:\n",
    "        weights_matrix[word_id+1] = np.random.normal(scale=0.6, size=(EMBEDDINGS_SIZE, ))\n",
    "        \n",
    "# UNK\n",
    "weights_matrix[vocabulary_size+1] = np.random.normal(scale=0.6, size=(EMBEDDINGS_SIZE, ))\n",
    "        \n",
    "pretrained_emb_vec = torch.tensor(weights_matrix, dtype=torch.float32)\n",
    "print(\"Downloaded: Pretained Embedding matrix: \" +  str(pretrained_emb.vectors.size()))\n",
    "print(\"Adapted:    Pretained Embedding matrix: \" +  str(pretrained_emb_vec.size()))"
   ]
  },
  {
   "cell_type": "code",
   "execution_count": 17,
   "metadata": {},
   "outputs": [
    {
     "name": "stdout",
     "output_type": "stream",
     "text": [
      "[17, -1]\n",
      "the\n",
      "tensor([ 0.4180,  0.2497, -0.4124,  0.1217,  0.3453, -0.0445, -0.4969, -0.1786,\n",
      "        -0.0007, -0.6566,  0.2784, -0.1477, -0.5568,  0.1466, -0.0095,  0.0117,\n",
      "         0.1020, -0.1279, -0.8443, -0.1218, -0.0168, -0.3328, -0.1552, -0.2313,\n",
      "        -0.1918, -1.8823, -0.7675,  0.0991, -0.4212, -0.1953,  4.0071, -0.1859,\n",
      "        -0.5229, -0.3168,  0.0006,  0.0074,  0.1778, -0.1590,  0.0120, -0.0542,\n",
      "        -0.2987, -0.1575, -0.3476, -0.0456, -0.4425,  0.1878,  0.0028, -0.1841,\n",
      "        -0.1151, -0.7858])\n"
     ]
    }
   ],
   "source": [
    "print(sick_dataset_train.dictionary.doc2idx([\"the\", \"The\"]))\n",
    "print(sick_dataset_train.dictionary[17])\n",
    "print(pretrained_emb_vec[17+1])\n",
    "# Glove dim=50 word=the vector[:4] = 0.418 0.24968 -0.41242 0.1217"
   ]
  },
  {
   "cell_type": "markdown",
   "metadata": {},
   "source": [
    "# To DataLoader"
   ]
  },
  {
   "cell_type": "code",
   "execution_count": 18,
   "metadata": {},
   "outputs": [],
   "source": [
    "from torch.utils.data import DataLoader"
   ]
  },
  {
   "cell_type": "code",
   "execution_count": 19,
   "metadata": {},
   "outputs": [],
   "source": [
    "def pad_collate(batch):\n",
    "    seqs_labels = np.array(batch)[:,1]\n",
    "    \n",
    "    vectorized_seqs = np.array(batch)[:,0]\n",
    "    seq_lengths = torch.LongTensor([len(x) for x in vectorized_seqs])\n",
    "    \n",
    "    seq_tensor = torch.zeros((len(vectorized_seqs), seq_lengths.max())).long()\n",
    "    for idx, (seq, seq_len) in enumerate(zip(vectorized_seqs, seq_lengths)):\n",
    "        seq_tensor[idx, :seq_len] = torch.LongTensor(seq)\n",
    "        \n",
    "    vectorized_seqs = np.array(seq_tensor)\n",
    "    \n",
    "    return torch.tensor(vectorized_seqs), torch.LongTensor([ x for x in seqs_labels])\n",
    "\n",
    "\n",
    "BATCH_SIZE = 8\n",
    "\n",
    "train_loader = DataLoader(dataset=sick_dataset_train,\n",
    "                          batch_size=BATCH_SIZE, shuffle=True, collate_fn=pad_collate)\n",
    "\n",
    "dev_loader = DataLoader(dataset=sick_dataset_dev,\n",
    "                          batch_size=1, shuffle=False)\n",
    "\n",
    "test_loader = DataLoader(dataset=sick_dataset_test,\n",
    "                          batch_size=1, shuffle=False)\n",
    "\n",
    "# Debug the padding\n",
    "# display([ x for x in enumerate(train_loader)][0]) # has padding (sample of same size padded with 0)\n",
    "# display([ x for x in enumerate(dev_loader)][0]) # no batch == no padding"
   ]
  },
  {
   "cell_type": "markdown",
   "metadata": {},
   "source": [
    "# Evaluation helpers"
   ]
  },
  {
   "cell_type": "code",
   "execution_count": 20,
   "metadata": {},
   "outputs": [],
   "source": [
    "from sklearn.metrics import confusion_matrix\n",
    "from sklearn.metrics import accuracy_score\n",
    "\n",
    "from sklearn.metrics import precision_recall_fscore_support\n",
    "\n",
    "import itertools\n",
    "\n",
    "def confusion_scores(total_labels, total_pred):\n",
    "    classes = SickDataset.text_label\n",
    "    title='Confusion matrix'\n",
    "    \n",
    "    cm = confusion_matrix(total_labels, total_pred, labels=[0, 1, 2])\n",
    "    \n",
    "    plt.rcParams[\"figure.figsize\"] = [6, 5]\n",
    "    plt.imshow(cm, interpolation='nearest', cmap=plt.cm.Blues)\n",
    "    plt.title(title, color='gray', fontsize=20)\n",
    "    plt.colorbar()\n",
    "    tick_marks = np.arange(len(classes))\n",
    "    plt.xticks(tick_marks, [c.lower() for c in classes], rotation=45 , style='italic', color='gray', fontsize=12)\n",
    "    plt.yticks(tick_marks, [c.lower() for c in classes], color='gray', style='italic', fontsize=12)\n",
    "\n",
    "    thresh = cm.max() / 2.\n",
    "    for i, j in itertools.product(range(cm.shape[0]), range(cm.shape[1])):\n",
    "        plt.text(j, i, format(cm[i, j], 'd'),\n",
    "                 horizontalalignment=\"center\",\n",
    "                 color=\"white\" if cm[i, j] > thresh else \"black\")\n",
    "\n",
    "    plt.ylabel('True label', color='gray', fontsize=14)\n",
    "    plt.xlabel('Predicted label', color='gray', fontsize=14)\n",
    "    plt.tight_layout()\n",
    "\n",
    "\n",
    "def evaluate(model, loader, whileTraining=False, criterion=None):\n",
    "    \"\"\"\n",
    "    Displays the confusion_matrix the precision recall fscore\n",
    "    If in whileTrainnig Mode only return the accuracy and loss\n",
    "    \"\"\"\n",
    "    model.eval()\n",
    "    with torch.no_grad():\n",
    "        total_labels = []\n",
    "        total_pred = []\n",
    "        for _, (data, target) in enumerate(loader):\n",
    "\n",
    "                data = data.to(device)\n",
    "                target = target.to(device)\n",
    "\n",
    "                output = rnn(data)\n",
    "\n",
    "                # Get the Accuracy\n",
    "                _, predicted = torch.max(output.data, dim=1)\n",
    "                correct = (predicted == target).sum().item()\n",
    "                \n",
    "                total_labels.append(list(target.cpu().numpy()))\n",
    "                total_pred.append(list(predicted.cpu().numpy()))\n",
    "                \n",
    "        model.train()\n",
    "        if whileTraining and criterion!=None:\n",
    "            loss = criterion(output, target)\n",
    "            return ((accuracy_score(total_labels, total_pred) * 100), loss)\n",
    "\n",
    "                \n",
    "        confusion_scores(total_labels, total_pred)\n",
    "        \n",
    "        print(\"Accuracy:  {:.4f}\".format(accuracy_score(total_labels, total_pred)))\n",
    "        \n",
    "        # compute per-label precisions, recalls, F1-scores, and supports instead of averaging \n",
    "        metrics = precision_recall_fscore_support(\n",
    "                                        total_labels, total_pred,\n",
    "                                        average=None, labels=[0, 1, 2])\n",
    "        \n",
    "        df = pd.DataFrame(list(metrics), index=['Precision', 'Recall', 'Fscore', 'support'],\n",
    "                                   columns=SickDataset.text_label)\n",
    "        df = df.drop(['support'], axis=0)\n",
    "        display(df.T)\n",
    "        \n"
   ]
  },
  {
   "cell_type": "markdown",
   "metadata": {},
   "source": [
    "# Create the RNN Model"
   ]
  },
  {
   "cell_type": "code",
   "execution_count": 21,
   "metadata": {},
   "outputs": [],
   "source": [
    "from torch import nn"
   ]
  },
  {
   "cell_type": "code",
   "execution_count": 22,
   "metadata": {},
   "outputs": [
    {
     "name": "stdout",
     "output_type": "stream",
     "text": [
      "RNNClassifier(\n",
      "  (embedding): Embedding(1502, 50, padding_idx=0)\n",
      "  (rnn): GRU(50, 21, batch_first=True, bidirectional=True)\n",
      "  (fc1): Linear(in_features=42, out_features=3, bias=True)\n",
      "  (softmax): Softmax()\n",
      ")\n"
     ]
    }
   ],
   "source": [
    "class RNNClassifier(nn.Module):\n",
    "    # Our model\n",
    "\n",
    "    def __init__(self, input_voc_size, embedding_size, hidden_size):\n",
    "        super(RNNClassifier, self).__init__()\n",
    "        \n",
    "        self.input_voc_size = input_voc_size\n",
    "        self.embedding_size = embedding_size\n",
    "        self.hidden_size = hidden_size\n",
    "        self.rnn_out_size = hidden_size * 2\n",
    "\n",
    "        \n",
    "        self.num_classes = 3\n",
    "        \n",
    "        # Add the padding token (0) (+1 to voc_size)\n",
    "        # Pads the output with the embedding vector at padding_idx whenever it encounters the index..\n",
    "        self.embedding = nn.Embedding(input_voc_size+1, embedding_size, padding_idx=0)\n",
    "        # Load the pretrained embeddings\n",
    "        #self.embedding.weight = nn.Parameter(pretrained_emb_vec) \n",
    "        # embeddings fine-tuning\n",
    "        self.embedding.weight.requires_grad = False\n",
    "        \n",
    "        self.rnn = nn.GRU(\n",
    "              input_size=embedding_size,\n",
    "              hidden_size=hidden_size,\n",
    "              batch_first=True,\n",
    "              bidirectional=True,\n",
    "        )\n",
    "        \n",
    "        self.fc1 = nn.Linear(self.rnn_out_size, self.num_classes)\n",
    "        self.softmax = nn.Softmax(dim=1)\n",
    "        \n",
    "    # input shape: B x S (input size)\n",
    "    def forward(self, x):\n",
    "        \n",
    "        vprint(\"\\nsize input\", x.size())\n",
    "        batch_size = x.size(0)\n",
    "        \n",
    "        # Initialize hidden (num_layers * num_directions, batch_size, hidden_size)\n",
    "        h_0 = torch.zeros(2, batch_size, self.hidden_size)\n",
    "        vprint(\"size hidden init\", h_0.size())\n",
    "        \n",
    "        # When creating new variables inside a model (like the hidden state in an RNN/GRU/LSTM),\n",
    "        # make sure to also move them to the device (GPU or CPU).\n",
    "        h_0 = h_0.to(device)\n",
    "\n",
    "        # Embedding B x S -> B x S x I (embedding size)\n",
    "        emb = self.embedding(x)\n",
    "        vprint(\"size Embedding\", emb.size())\n",
    "        \n",
    "        # Propagate embedding through RNN\n",
    "        # Input: (batch, seq_len, embedding_size)\n",
    "        # h_0: (num_layers * num_directions, batch, hidden_size)\n",
    "        out, hidden = self.rnn(emb, h_0)\n",
    "        \n",
    "        vprint(\"size hidden\", hidden.size())\n",
    "        \n",
    "        rnn_out = torch.cat((hidden[0], hidden[1]), 1)\n",
    "        vprint(\"size rnn out\", rnn_out.size())\n",
    "        \n",
    "        \n",
    "        # Use the last layer output as FC's input\n",
    "        layout_fc1 = self.fc1(rnn_out)\n",
    "        vprint(\"size layout fc1\", layout_fc1.size())\n",
    "        \n",
    "        fc_output = self.softmax(layout_fc1)\n",
    "        \n",
    "        return fc_output    \n",
    "    \n",
    "# Add the unknown token (+1 to voc_size)\n",
    "rnn = RNNClassifier(vocabulary_size+1, EMBEDDINGS_SIZE, 21)\n",
    "rnn.to(device)\n",
    "print(rnn)\n",
    "\n",
    "# Set loss and optimizer function\n",
    "# CrossEntropyLoss = LogSoftmax + NLLLoss\n",
    "weights = [1-((sick_dataset_train.df['entailment_id'] == i).sum() / len(sick_dataset_train)) for i in range(3)]\n",
    "class_weights = torch.FloatTensor(weights).to(device)\n",
    "criterion = torch.nn.CrossEntropyLoss(weight=class_weights)\n",
    "\n",
    "optimizer = torch.optim.Adam(rnn.parameters(), lr=0.002)"
   ]
  },
  {
   "cell_type": "markdown",
   "metadata": {},
   "source": [
    "# Training the Model "
   ]
  },
  {
   "cell_type": "code",
   "execution_count": 23,
   "metadata": {
    "scrolled": false
   },
   "outputs": [
    {
     "name": "stdout",
     "output_type": "stream",
     "text": [
      "Epoch [  1/35] | Step [ 2248/4500 (100%)] | Loss 0.798 | Accuracy 54.62% @ Loss_dev 0.738 | Accuracy_dev 60.40%\n",
      "Epoch [  2/35] | Step [ 2248/4500 (100%)] | Loss 0.842 | Accuracy 56.71% @ Loss_dev 0.891 | Accuracy_dev 50.80%\n",
      "Epoch [  3/35] | Step [ 2248/4500 (100%)] | Loss 1.024 | Accuracy 57.56% @ Loss_dev 0.970 | Accuracy_dev 53.60%\n",
      "Epoch [  4/35] | Step [ 2248/4500 (100%)] | Loss 1.129 | Accuracy 60.56% @ Loss_dev 0.636 | Accuracy_dev 63.80%\n",
      "Epoch [  5/35] | Step [ 2248/4500 (100%)] | Loss 1.060 | Accuracy 62.93% @ Loss_dev 0.783 | Accuracy_dev 55.00%\n",
      "Epoch [  6/35] | Step [ 2248/4500 (100%)] | Loss 1.041 | Accuracy 64.36% @ Loss_dev 0.661 | Accuracy_dev 59.60%\n",
      "Epoch [  7/35] | Step [ 2248/4500 (100%)] | Loss 0.863 | Accuracy 66.96% @ Loss_dev 0.640 | Accuracy_dev 62.60%\n",
      "Epoch [  8/35] | Step [ 2248/4500 (100%)] | Loss 0.787 | Accuracy 67.71% @ Loss_dev 0.646 | Accuracy_dev 61.20%\n",
      "Epoch [  9/35] | Step [ 2248/4500 (100%)] | Loss 0.716 | Accuracy 68.73% @ Loss_dev 0.600 | Accuracy_dev 63.40%\n",
      "Epoch [ 10/35] | Step [ 2248/4500 (100%)] | Loss 0.711 | Accuracy 70.13% @ Loss_dev 0.597 | Accuracy_dev 59.80%\n",
      "Epoch [ 11/35] | Step [ 2248/4500 (100%)] | Loss 1.008 | Accuracy 71.04% @ Loss_dev 0.599 | Accuracy_dev 59.20%\n",
      "Epoch [ 12/35] | Step [ 2248/4500 (100%)] | Loss 0.855 | Accuracy 72.07% @ Loss_dev 0.574 | Accuracy_dev 63.20%\n",
      "Epoch [ 13/35] | Step [ 2248/4500 (100%)] | Loss 0.566 | Accuracy 73.40%  @ Loss_dev 0.555 | Accuracy_dev 62.40%\n",
      "Epoch [ 14/35] | Step [ 2248/4500 (100%)] | Loss 0.589 | Accuracy 73.51% @ Loss_dev 0.556 | Accuracy_dev 60.60%\n",
      "Epoch [ 15/35] | Step [ 2248/4500 (100%)] | Loss 1.012 | Accuracy 74.51% @ Loss_dev 0.552 | Accuracy_dev 61.80%\n",
      "Epoch [ 16/35] | Step [ 2248/4500 (100%)] | Loss 0.897 | Accuracy 75.60% @ Loss_dev 0.552 | Accuracy_dev 62.00%\n",
      "Epoch [ 17/35] | Step [ 2248/4500 (100%)] | Loss 0.928 | Accuracy 76.64% @ Loss_dev 0.552 | Accuracy_dev 62.20%\n",
      "Epoch [ 18/35] | Step [ 2248/4500 (100%)] | Loss 0.979 | Accuracy 77.49%  @ Loss_dev 0.551 | Accuracy_dev 62.40%\n",
      "Epoch [ 19/35] | Step [ 2248/4500 (100%)] | Loss 0.954 | Accuracy 77.91% @ Loss_dev 0.551 | Accuracy_dev 64.20%\n",
      "Epoch [ 20/35] | Step [ 2248/4500 (100%)] | Loss 0.969 | Accuracy 78.40% @ Loss_dev 0.551 | Accuracy_dev 63.00%\n",
      "Epoch [ 21/35] | Step [ 2248/4500 (100%)] | Loss 0.920 | Accuracy 77.76% @ Loss_dev 0.551 | Accuracy_dev 63.40%\n",
      "Epoch [ 22/35] | Step [ 2248/4500 (100%)] | Loss 0.767 | Accuracy 78.93% @ Loss_dev 0.551 | Accuracy_dev 62.40%\n",
      "Epoch [ 23/35] | Step [ 2248/4500 (100%)] | Loss 0.813 | Accuracy 79.60% @ Loss_dev 0.551 | Accuracy_dev 60.60%\n",
      "Epoch [ 24/35] | Step [ 2248/4500 (100%)] | Loss 0.552 | Accuracy 79.67%  @ Loss_dev 0.551 | Accuracy_dev 62.80%\n",
      "Epoch [ 25/35] | Step [ 2248/4500 (100%)] | Loss 1.046 | Accuracy 80.71% @ Loss_dev 0.551 | Accuracy_dev 63.20%\n",
      "Epoch [ 26/35] | Step [ 2248/4500 (100%)] | Loss 0.557 | Accuracy 81.29% @ Loss_dev 0.551 | Accuracy_dev 62.60%\n",
      "Epoch [ 27/35] | Step [ 2248/4500 (100%)] | Loss 1.062 | Accuracy 81.60% @ Loss_dev 0.551 | Accuracy_dev 61.80%\n",
      "Epoch [ 28/35] | Step [ 2248/4500 (100%)] | Loss 0.552 | Accuracy 81.84% @ Loss_dev 0.551 | Accuracy_dev 62.60%\n",
      "Epoch [ 29/35] | Step [ 2248/4500 (100%)] | Loss 0.725 | Accuracy 81.67%  @ Loss_dev 0.551 | Accuracy_dev 62.20%\n",
      "Epoch [ 30/35] | Step [ 2248/4500 (100%)] | Loss 0.792 | Accuracy 82.13%  @ Loss_dev 0.551 | Accuracy_dev 61.60%\n",
      "Epoch [ 31/35] | Step [ 2248/4500 (100%)] | Loss 0.552 | Accuracy 82.49% @ Loss_dev 0.551 | Accuracy_dev 59.60%\n",
      "Epoch [ 32/35] | Step [ 2248/4500 (100%)] | Loss 0.959 | Accuracy 82.82% @ Loss_dev 0.551 | Accuracy_dev 61.00%\n",
      "Epoch [ 33/35] | Step [ 2248/4500 (100%)] | Loss 0.762 | Accuracy 82.67% @ Loss_dev 0.551 | Accuracy_dev 59.20%\n",
      "Epoch [ 34/35] | Step [ 2248/4500 (100%)] | Loss 1.065 | Accuracy 82.98% @ Loss_dev 0.551 | Accuracy_dev 62.80%\n",
      "Epoch [ 35/35] | Step [ 2248/4500 (100%)] | Loss 0.554 | Accuracy 82.96% @ Loss_dev 0.551 | Accuracy_dev 59.60%\n",
      "Learning finished!\n",
      "CPU times: user 3min 19s, sys: 3.62 s, total: 3min 23s\n",
      "Wall time: 3min 24s\n"
     ]
    }
   ],
   "source": [
    "%%time\n",
    "# Train the model\n",
    "\n",
    "num_epochs=35\n",
    "\n",
    "train_loss = []\n",
    "\n",
    "rnn.train()\n",
    "for epoch in range(num_epochs):\n",
    "    total_correct = 0\n",
    "    total_target = 0\n",
    "    for batch_idx, (data, target) in enumerate(train_loader):\n",
    "        \n",
    "        data = data.to(device)\n",
    "        target = target.to(device)\n",
    "        \n",
    "        output = rnn(data)\n",
    "        \n",
    "        vprint(output)\n",
    "        loss = criterion(output, target)\n",
    "        \n",
    "        rnn.zero_grad()\n",
    "        loss.backward()\n",
    "        optimizer.step()\n",
    "        \n",
    "        # Get the Accuracy\n",
    "        _, predicted = torch.max(output.data, dim=1)\n",
    "        correct = (predicted == target).sum().item()\n",
    "        \n",
    "        total_correct += correct\n",
    "        total_target += target.size(0)\n",
    "        \n",
    "        if batch_idx % 100 == 0 or batch_idx % 100 == 1 or batch_idx == len(train_loader)-1:\n",
    "            train_loss.append(loss.cpu().detach().numpy())\n",
    "            print('\\rEpoch [{:3}/{}] | Step [{:5}/{} ({:3.0f}%)] | Loss {:.3f} | Accuracy {:.2f}%'.format(\n",
    "                    epoch+1, num_epochs,\n",
    "                    batch_idx * len(data), \n",
    "                    len(train_loader.dataset),\n",
    "                    100. * batch_idx / len(train_loader), \n",
    "                    loss.item(), \n",
    "                    (total_correct / total_target) * 100), end=' ')\n",
    "            \n",
    "        if Verbose:\n",
    "            break\n",
    "            \n",
    "    accuracy_dev, loss_dev = evaluate(rnn, dev_loader, criterion=criterion, whileTraining=True)\n",
    "    print(\"@ Loss_dev {:.3f} | Accuracy_dev {:.2f}%\".format(loss_dev, accuracy_dev))\n",
    "\n",
    "\n",
    "print(\"Learning finished!\")"
   ]
  },
  {
   "cell_type": "code",
   "execution_count": 24,
   "metadata": {
    "scrolled": false
   },
   "outputs": [
    {
     "data": {
      "application/vnd.jupyter.widget-view+json": {
       "model_id": "03a65caa12d646879a43b9961fe3512f",
       "version_major": 2,
       "version_minor": 0
      },
      "text/plain": [
       "interactive(children=(IntSlider(value=31, description='smooth', max=201, min=5, step=4), Output()), _dom_class…"
      ]
     },
     "metadata": {},
     "output_type": "display_data"
    }
   ],
   "source": [
    "from scipy.signal import savgol_filter\n",
    "import ipywidgets as widgets\n",
    "from ipywidgets import interact\n",
    "\n",
    "def update_losses(smooth=31):\n",
    "    plt.rcParams[\"figure.figsize\"] = [9, 7]\n",
    "    plt.title(\"Loss Curves\", color='gray', fontsize=20)\n",
    "    plt.xlabel('Steps', fontsize=16, color='gray')\n",
    "    plt.ylabel('Loss', fontsize=16, color='gray')\n",
    "    _line, = plt.plot(train_loss)\n",
    "    _line.set_ydata(savgol_filter(train_loss, smooth, 3))\n",
    "\n",
    "interact(update_losses, smooth=(5, 201, 4));\n"
   ]
  },
  {
   "cell_type": "markdown",
   "metadata": {},
   "source": [
    "# Evaluate the model on dev"
   ]
  },
  {
   "cell_type": "code",
   "execution_count": 25,
   "metadata": {},
   "outputs": [
    {
     "name": "stdout",
     "output_type": "stream",
     "text": [
      "Accuracy:  0.5960\n"
     ]
    },
    {
     "data": {
      "text/html": [
       "<div>\n",
       "<style scoped>\n",
       "    .dataframe tbody tr th:only-of-type {\n",
       "        vertical-align: middle;\n",
       "    }\n",
       "\n",
       "    .dataframe tbody tr th {\n",
       "        vertical-align: top;\n",
       "    }\n",
       "\n",
       "    .dataframe thead th {\n",
       "        text-align: right;\n",
       "    }\n",
       "</style>\n",
       "<table border=\"1\" class=\"dataframe\">\n",
       "  <thead>\n",
       "    <tr style=\"text-align: right;\">\n",
       "      <th></th>\n",
       "      <th>Precision</th>\n",
       "      <th>Recall</th>\n",
       "      <th>Fscore</th>\n",
       "    </tr>\n",
       "  </thead>\n",
       "  <tbody>\n",
       "    <tr>\n",
       "      <th>NEUTRAL</th>\n",
       "      <td>0.679012</td>\n",
       "      <td>0.585106</td>\n",
       "      <td>0.628571</td>\n",
       "    </tr>\n",
       "    <tr>\n",
       "      <th>ENTAILMENT</th>\n",
       "      <td>0.451220</td>\n",
       "      <td>0.513889</td>\n",
       "      <td>0.480519</td>\n",
       "    </tr>\n",
       "    <tr>\n",
       "      <th>CONTRADICTION</th>\n",
       "      <td>0.634409</td>\n",
       "      <td>0.797297</td>\n",
       "      <td>0.706587</td>\n",
       "    </tr>\n",
       "  </tbody>\n",
       "</table>\n",
       "</div>"
      ],
      "text/plain": [
       "               Precision    Recall    Fscore\n",
       "NEUTRAL         0.679012  0.585106  0.628571\n",
       "ENTAILMENT      0.451220  0.513889  0.480519\n",
       "CONTRADICTION   0.634409  0.797297  0.706587"
      ]
     },
     "metadata": {},
     "output_type": "display_data"
    },
    {
     "name": "stdout",
     "output_type": "stream",
     "text": [
      "CPU times: user 944 ms, sys: 164 ms, total: 1.11 s\n",
      "Wall time: 910 ms\n"
     ]
    },
    {
     "data": {
      "image/png": "[encoded data removed]",
      "text/plain": [
       "<Figure size 432x360 with 2 Axes>"
      ]
     },
     "metadata": {},
     "output_type": "display_data"
    }
   ],
   "source": [
    "%%time\n",
    "\n",
    "evaluate(rnn, dev_loader)"
   ]
  },
  {
   "cell_type": "markdown",
   "metadata": {},
   "source": [
    "# Evaluate the model on test"
   ]
  },
  {
   "cell_type": "code",
   "execution_count": null,
   "metadata": {},
   "outputs": [],
   "source": [
    "%%time\n",
    "\n",
    "# evaluate(rnn, test_loader)"
   ]
  }
 ],
 "metadata": {
  "kernelspec": {
   "display_name": "Python 3",
   "language": "python",
   "name": "python3"
  },
  "language_info": {
   "codemirror_mode": {
    "name": "ipython",
    "version": 3
   },
   "file_extension": ".py",
   "mimetype": "text/x-python",
   "name": "python",
   "nbconvert_exporter": "python",
   "pygments_lexer": "ipython3",
   "version": "3.5.2"
  }
 },
 "nbformat": 4,
 "nbformat_minor": 2
}

{
 "cells": [
  {
   "cell_type": "code",
   "execution_count": 1,
   "metadata": {},
   "outputs": [],
   "source": [
    "Verbose = False\n",
    "if Verbose:\n",
    "    def vprint(*args, **kwargs): print(*args, **kwargs, flush=True)\n",
    "else: # do-nothing function\n",
    "    def vprint(*args, **kwargs): None"
   ]
  },
  {
   "cell_type": "code",
   "execution_count": 2,
   "metadata": {},
   "outputs": [],
   "source": [
    "import torch\n",
    "import numpy as np\n",
    "import pandas as pd\n",
    "pd.set_option(\"display.width\", 380)\n",
    "pd.set_option('max_colwidth', 100)\n",
    "\n",
    "import matplotlib.pyplot as plt\n",
    "\n",
    "from IPython.display import display\n",
    "\n",
    "device = torch.device('cuda:1' if torch.cuda.is_available() else 'cpu')"
   ]
  },
  {
   "cell_type": "markdown",
   "metadata": {},
   "source": [
    "# Load the sentences"
   ]
  },
  {
   "cell_type": "code",
   "execution_count": 3,
   "metadata": {
    "scrolled": true
   },
   "outputs": [],
   "source": [
    "df_train = pd.read_csv(\"./sick_train/SICK_train.txt\", sep=\"\\t\")\n",
    "df_train = df_train.drop(['relatedness_score'], axis=1)\n",
    "\n",
    "df_dev = pd.read_csv(\"./sick_trial/SICK_trial.txt\", sep=\"\\t\")\n",
    "df_dev = df_dev.drop(['relatedness_score'], axis=1)\n",
    "\n",
    "df_test = pd.read_csv(\"./sick_test/SICK_test.txt\", sep=\"\\t\")\n",
    "df_test = df_test.drop(['relatedness_score'], axis=1)"
   ]
  },
  {
   "cell_type": "code",
   "execution_count": 4,
   "metadata": {},
   "outputs": [],
   "source": [
    "from torch.utils.data import Dataset\n",
    "from torch.utils.data.dataloader import DataLoader"
   ]
  },
  {
   "cell_type": "code",
   "execution_count": 5,
   "metadata": {},
   "outputs": [],
   "source": [
    "from gensim import corpora"
   ]
  },
  {
   "cell_type": "code",
   "execution_count": 6,
   "metadata": {
    "scrolled": false
   },
   "outputs": [],
   "source": [
    "class SickDataset(Dataset):\n",
    "    endOfSentence   = '</s>'\n",
    "    startOfSentence = '<s>'\n",
    "    separator2Sentences = '<sep>'\n",
    "    \n",
    "    text_label = [\"NEUTRAL\", \"ENTAILMENT\", \"CONTRADICTION\"]\n",
    "    \n",
    "    tokens = [startOfSentence, separator2Sentences, endOfSentence]\n",
    "    \n",
    "    def join_sentence(self, row):\n",
    "        \"\"\"\n",
    "        Create a new sentence (<s> + s_A + <sep> + s_B + </s>)\n",
    "        \"\"\"\n",
    "        sentence_a = row['sentence_A'].split(\" \")\n",
    "        sentence_b = row['sentence_B'].split(\" \")\n",
    "        return np.concatenate((\n",
    "            [self.startOfSentence],\n",
    "            sentence_a,\n",
    "            [self.separator2Sentences],\n",
    "            sentence_b,\n",
    "            [self.endOfSentence]\n",
    "        ))\n",
    "    \n",
    "    def series_text_2_labelID(self, series, keep_n=1000):\n",
    "        \"\"\"\n",
    "        Convert text Label into label id\n",
    "        \"\"\"\n",
    "        reverse_dict = {v: k for k, v in  dict(enumerate(self.text_label)).items()}\n",
    "        return series.map(reverse_dict)\n",
    "    \n",
    "    def series_2_dict(self, series, keep_n):\n",
    "        \"\"\"\n",
    "        Convert document (a list of words) into a list of indexes\n",
    "        AND apply some filter on the documents\n",
    "        \"\"\"\n",
    "        dictionary = corpora.Dictionary(series)\n",
    "        dictionary.filter_extremes(\n",
    "            no_below=1,\n",
    "            no_above=1,\n",
    "            keep_n=keep_n,\n",
    "            keep_tokens=self.tokens)\n",
    "        return dictionary\n",
    "    \n",
    "    \n",
    "    def __init__(self, df, vocabulary_size, dic=None):\n",
    "        self.vocabulary_size = vocabulary_size\n",
    "        \n",
    "        # Label text as ids\n",
    "        df[\"entailment_id\"] = self.series_text_2_labelID(df['entailment_judgment'])\n",
    "        \n",
    "        # Add <s>,</s>,<sep> tokens to the vocabulary\n",
    "        df['sentence_AB'] = df.apply(self.join_sentence, axis=1)\n",
    "        \n",
    "        # check if the dictionary is given\n",
    "        if dic is None:\n",
    "            # Create the Dictionary\n",
    "            self.dictionary = self.series_2_dict(df['sentence_AB'], vocabulary_size)\n",
    "        else:\n",
    "            self.dictionary = dic\n",
    "        \n",
    "        # sentence of words -> array of idx\n",
    "        # Adds unknown to the voc (idx = len(dictionary)), len(dictionary) = vocabulary_size\n",
    "        # Adds one to each (no tokens at 0, even <unk>)\n",
    "        # 0 is for the padding when using mini-batch\n",
    "        df[\"word_idx\"] = df[\"sentence_AB\"].apply(\n",
    "            lambda word: np.array(self.dictionary.doc2idx(word, unknown_word_index=vocabulary_size)) + 1\n",
    "        )\n",
    "        \n",
    "        self.df = df\n",
    "\n",
    "        # compute a sorted occurence dictionary on the whole corpus\n",
    "        occ_dict = {}\n",
    "        for serie in df['sentence_AB']:\n",
    "            unique, counts = np.unique(serie, return_counts=True)\n",
    "            tmp_dict = dict(zip(unique, counts))\n",
    "            \n",
    "            for key, value in tmp_dict.items():\n",
    "                if key in occ_dict:\n",
    "                    occ_dict[key] = occ_dict[key] + tmp_dict[key]\n",
    "                else:\n",
    "                    occ_dict[key] = value\n",
    "        \n",
    "        self.occ_dict_list = [[key, value] for key, value in occ_dict.items()]\n",
    "        self.occ_dict_list.sort(key=lambda x: x[1], reverse=True)\n",
    "        \n",
    "    def getSortedOccDictList(self):\n",
    "        return self.occ_dict_list\n",
    "    \n",
    "    def plotVocabularyCoverage(self):\n",
    "        occdict_list = self.occ_dict_list\n",
    "        \n",
    "        total = 0\n",
    "        y = []\n",
    "        for i, value in enumerate(occdict_list):\n",
    "            total += value[1]\n",
    "            y.append(total)\n",
    "            if (i == self.vocabulary_size):\n",
    "                current_voc_cov = total\n",
    "\n",
    "        current_voc_cov = current_voc_cov*100.0/total\n",
    "        \n",
    "        y = [tmp*100.0/total for tmp in y]\n",
    "\n",
    "        x = np.linspace(0, len(occdict_list), len(occdict_list))\n",
    "\n",
    "        # Show graph\n",
    "        fig_size = plt.rcParams[\"figure.figsize\"]\n",
    "        fig_size[0] = 20\n",
    "        fig_size[1] = 9\n",
    "        plt.rcParams[\"figure.figsize\"] = fig_size\n",
    "\n",
    "        legend, = plt.plot(x, y, label='Vocabulary size ')\n",
    "\n",
    "        plt.title(('Current vocabulary size n=' + str(self.vocabulary_size) + ' coverage = ' +\"{:.4}\".format(current_voc_cov) + '%'),\n",
    "                     fontsize=14, fontweight='bold', color='gray')\n",
    "        plt.suptitle(('Vocabulary coverage'),\n",
    "                     fontsize=24, fontweight='bold', color='gray')\n",
    "        plt.xlabel(\"Size of unique vocabulary\", color='gray', fontsize=14)\n",
    "        plt.ylabel(\"Vocabulary coverage %\", color='gray', fontsize=14)\n",
    "\n",
    "        ## Plot Swagg ##\n",
    "        plt.yticks(fontsize=14, rotation=0, color='gray')\n",
    "        plt.xticks(fontsize=14, rotation=0, color='gray')\n",
    "\n",
    "        # Less border\n",
    "        plt.gca().xaxis.grid(True)\n",
    "        plt.gca().yaxis.grid(True)\n",
    "        plt.gca().spines['top'].set_visible(False)\n",
    "        plt.gca().spines['right'].set_visible(False)\n",
    "        plt.gca().spines['left'].set_visible(False)\n",
    "        plt.gca().spines['bottom'].set_visible(False)\n",
    "        plt.show()\n",
    "        \n",
    "    def getRef(self, index):\n",
    "        return self.df['sentence_AB'][index]\n",
    "        \n",
    "    def __getitem__(self, index):\n",
    "        return (\n",
    "            self.df['word_idx'][index],\n",
    "            self.df['entailment_id'][index])\n",
    "    \n",
    "    def getDictionary(self):\n",
    "        return self.dictionary\n",
    "    \n",
    "    def __len__(self):\n",
    "        return len(self.df)\n",
    "\n",
    "    \n",
    "vocabulary_size = 1500"
   ]
  },
  {
   "cell_type": "markdown",
   "metadata": {},
   "source": [
    "# Dataset"
   ]
  },
  {
   "cell_type": "code",
   "execution_count": 7,
   "metadata": {},
   "outputs": [
    {
     "data": {
      "text/html": [
       "<div>\n",
       "<style scoped>\n",
       "    .dataframe tbody tr th:only-of-type {\n",
       "        vertical-align: middle;\n",
       "    }\n",
       "\n",
       "    .dataframe tbody tr th {\n",
       "        vertical-align: top;\n",
       "    }\n",
       "\n",
       "    .dataframe thead th {\n",
       "        text-align: right;\n",
       "    }\n",
       "</style>\n",
       "<table border=\"1\" class=\"dataframe\">\n",
       "  <thead>\n",
       "    <tr style=\"text-align: right;\">\n",
       "      <th></th>\n",
       "      <th>pair_ID</th>\n",
       "      <th>sentence_A</th>\n",
       "      <th>sentence_B</th>\n",
       "      <th>entailment_judgment</th>\n",
       "      <th>entailment_id</th>\n",
       "      <th>sentence_AB</th>\n",
       "      <th>word_idx</th>\n",
       "    </tr>\n",
       "  </thead>\n",
       "  <tbody>\n",
       "    <tr>\n",
       "      <th>0</th>\n",
       "      <td>1</td>\n",
       "      <td>A group of kids is playing in a yard and an old man is standing in the background</td>\n",
       "      <td>A group of boys in a yard is playing and a man is standing in the background</td>\n",
       "      <td>NEUTRAL</td>\n",
       "      <td>0</td>\n",
       "      <td>[&lt;s&gt;, A, group, of, kids, is, playing, in, a, yard, and, an, old, man, is, standing, in, the, ba...</td>\n",
       "      <td>[2, 4, 10, 15, 13, 12, 17, 11, 5, 20, 7, 6, 16, 14, 12, 18, 11, 19, 8, 3, 4, 10, 15, 9, 11, 5, 2...</td>\n",
       "    </tr>\n",
       "    <tr>\n",
       "      <th>1</th>\n",
       "      <td>2</td>\n",
       "      <td>A group of children is playing in the house and there is no man standing in the background</td>\n",
       "      <td>A group of kids is playing in a yard and an old man is standing in the background</td>\n",
       "      <td>NEUTRAL</td>\n",
       "      <td>0</td>\n",
       "      <td>[&lt;s&gt;, A, group, of, children, is, playing, in, the, house, and, there, is, no, man, standing, in...</td>\n",
       "      <td>[2, 4, 10, 15, 21, 12, 17, 11, 19, 22, 7, 24, 12, 23, 14, 18, 11, 19, 8, 3, 4, 10, 15, 13, 12, 1...</td>\n",
       "    </tr>\n",
       "    <tr>\n",
       "      <th>2</th>\n",
       "      <td>3</td>\n",
       "      <td>The young boys are playing outdoors and the man is smiling nearby</td>\n",
       "      <td>The kids are playing outdoors near a man with a smile</td>\n",
       "      <td>ENTAILMENT</td>\n",
       "      <td>1</td>\n",
       "      <td>[&lt;s&gt;, The, young, boys, are, playing, outdoors, and, the, man, is, smiling, nearby, &lt;sep&gt;, The, ...</td>\n",
       "      <td>[2, 25, 32, 9, 26, 17, 28, 7, 19, 14, 12, 30, 1501, 3, 25, 13, 26, 17, 28, 27, 5, 14, 31, 5, 29, 1]</td>\n",
       "    </tr>\n",
       "    <tr>\n",
       "      <th>3</th>\n",
       "      <td>5</td>\n",
       "      <td>The kids are playing outdoors near a man with a smile</td>\n",
       "      <td>A group of kids is playing in a yard and an old man is standing in the background</td>\n",
       "      <td>NEUTRAL</td>\n",
       "      <td>0</td>\n",
       "      <td>[&lt;s&gt;, The, kids, are, playing, outdoors, near, a, man, with, a, smile, &lt;sep&gt;, A, group, of, kids...</td>\n",
       "      <td>[2, 25, 13, 26, 17, 28, 27, 5, 14, 31, 5, 29, 3, 4, 10, 15, 13, 12, 17, 11, 5, 20, 7, 6, 16, 14,...</td>\n",
       "    </tr>\n",
       "    <tr>\n",
       "      <th>4</th>\n",
       "      <td>9</td>\n",
       "      <td>The young boys are playing outdoors and the man is smiling nearby</td>\n",
       "      <td>A group of kids is playing in a yard and an old man is standing in the background</td>\n",
       "      <td>NEUTRAL</td>\n",
       "      <td>0</td>\n",
       "      <td>[&lt;s&gt;, The, young, boys, are, playing, outdoors, and, the, man, is, smiling, nearby, &lt;sep&gt;, A, gr...</td>\n",
       "      <td>[2, 25, 32, 9, 26, 17, 28, 7, 19, 14, 12, 30, 1501, 3, 4, 10, 15, 13, 12, 17, 11, 5, 20, 7, 6, 1...</td>\n",
       "    </tr>\n",
       "  </tbody>\n",
       "</table>\n",
       "</div>"
      ],
      "text/plain": [
       "   pair_ID                                                                                  sentence_A                                                                         sentence_B entailment_judgment  entailment_id                                                                                          sentence_AB  \\\n",
       "0        1           A group of kids is playing in a yard and an old man is standing in the background       A group of boys in a yard is playing and a man is standing in the background             NEUTRAL              0  [<s>, A, group, of, kids, is, playing, in, a, yard, and, an, old, man, is, standing, in, the, ba...   \n",
       "1        2  A group of children is playing in the house and there is no man standing in the background  A group of kids is playing in a yard and an old man is standing in the background             NEUTRAL              0  [<s>, A, group, of, children, is, playing, in, the, house, and, there, is, no, man, standing, in...   \n",
       "2        3                           The young boys are playing outdoors and the man is smiling nearby                              The kids are playing outdoors near a man with a smile          ENTAILMENT              1  [<s>, The, young, boys, are, playing, outdoors, and, the, man, is, smiling, nearby, <sep>, The, ...   \n",
       "3        5                                       The kids are playing outdoors near a man with a smile  A group of kids is playing in a yard and an old man is standing in the background             NEUTRAL              0  [<s>, The, kids, are, playing, outdoors, near, a, man, with, a, smile, <sep>, A, group, of, kids...   \n",
       "4        9                           The young boys are playing outdoors and the man is smiling nearby  A group of kids is playing in a yard and an old man is standing in the background             NEUTRAL              0  [<s>, The, young, boys, are, playing, outdoors, and, the, man, is, smiling, nearby, <sep>, A, gr...   \n",
       "\n",
       "                                                                                              word_idx  \n",
       "0  [2, 4, 10, 15, 13, 12, 17, 11, 5, 20, 7, 6, 16, 14, 12, 18, 11, 19, 8, 3, 4, 10, 15, 9, 11, 5, 2...  \n",
       "1  [2, 4, 10, 15, 21, 12, 17, 11, 19, 22, 7, 24, 12, 23, 14, 18, 11, 19, 8, 3, 4, 10, 15, 13, 12, 1...  \n",
       "2  [2, 25, 32, 9, 26, 17, 28, 7, 19, 14, 12, 30, 1501, 3, 25, 13, 26, 17, 28, 27, 5, 14, 31, 5, 29, 1]  \n",
       "3  [2, 25, 13, 26, 17, 28, 27, 5, 14, 31, 5, 29, 3, 4, 10, 15, 13, 12, 17, 11, 5, 20, 7, 6, 16, 14,...  \n",
       "4  [2, 25, 32, 9, 26, 17, 28, 7, 19, 14, 12, 30, 1501, 3, 4, 10, 15, 13, 12, 17, 11, 5, 20, 7, 6, 1...  "
      ]
     },
     "execution_count": 7,
     "metadata": {},
     "output_type": "execute_result"
    }
   ],
   "source": [
    "# Create the train dataset\n",
    "sick_dataset_train = SickDataset(df_train, vocabulary_size)\n",
    "sick_dataset_train.df.head()"
   ]
  },
  {
   "cell_type": "code",
   "execution_count": 8,
   "metadata": {},
   "outputs": [],
   "source": [
    "# Create the dev dataset\n",
    "dictionary_train = sick_dataset_train.getDictionary()\n",
    "\n",
    "sick_dataset_dev = SickDataset(df_dev, vocabulary_size, dictionary_train)"
   ]
  },
  {
   "cell_type": "code",
   "execution_count": 9,
   "metadata": {},
   "outputs": [],
   "source": [
    "# Create the test dataset\n",
    "sick_dataset_test = SickDataset(df_test, vocabulary_size, dictionary_train)"
   ]
  },
  {
   "cell_type": "code",
   "execution_count": 10,
   "metadata": {
    "scrolled": false
   },
   "outputs": [
    {
     "data": {
      "text/html": [
       "<div>\n",
       "<style scoped>\n",
       "    .dataframe tbody tr th:only-of-type {\n",
       "        vertical-align: middle;\n",
       "    }\n",
       "\n",
       "    .dataframe tbody tr th {\n",
       "        vertical-align: top;\n",
       "    }\n",
       "\n",
       "    .dataframe thead th {\n",
       "        text-align: right;\n",
       "    }\n",
       "</style>\n",
       "<table border=\"1\" class=\"dataframe\">\n",
       "  <thead>\n",
       "    <tr style=\"text-align: right;\">\n",
       "      <th></th>\n",
       "      <th>0</th>\n",
       "      <th>1</th>\n",
       "      <th>2</th>\n",
       "      <th>3</th>\n",
       "      <th>4</th>\n",
       "      <th>5</th>\n",
       "      <th>6</th>\n",
       "      <th>7</th>\n",
       "      <th>8</th>\n",
       "      <th>9</th>\n",
       "    </tr>\n",
       "  </thead>\n",
       "  <tbody>\n",
       "    <tr>\n",
       "      <th>0</th>\n",
       "      <td>the</td>\n",
       "      <td>man</td>\n",
       "      <td>in</td>\n",
       "      <td>pants</td>\n",
       "      <td>&lt;sep&gt;</td>\n",
       "      <td>Two</td>\n",
       "      <td>dogs</td>\n",
       "      <td>are</td>\n",
       "      <td>fighting</td>\n",
       "      <td>&lt;/s&gt;</td>\n",
       "    </tr>\n",
       "    <tr>\n",
       "      <th>1</th>\n",
       "      <td>2</td>\n",
       "      <td>25</td>\n",
       "      <td>32</td>\n",
       "      <td>9</td>\n",
       "      <td>26</td>\n",
       "      <td>17</td>\n",
       "      <td>28</td>\n",
       "      <td>7</td>\n",
       "      <td>19</td>\n",
       "      <td>14</td>\n",
       "    </tr>\n",
       "  </tbody>\n",
       "</table>\n",
       "</div>"
      ],
      "text/plain": [
       "     0    1   2      3      4    5     6    7         8     9\n",
       "0  the  man  in  pants  <sep>  Two  dogs  are  fighting  </s>\n",
       "1    2   25  32      9     26   17    28    7        19    14"
      ]
     },
     "execution_count": 10,
     "metadata": {},
     "output_type": "execute_result"
    }
   ],
   "source": [
    "pd.DataFrame(list(zip(sick_dataset_train.getRef(6)[-10:], sick_dataset_train[2][0]))).T"
   ]
  },
  {
   "cell_type": "code",
   "execution_count": 11,
   "metadata": {},
   "outputs": [
    {
     "data": {
      "image/png": "[encoded data removed]",
      "text/plain": [
       "<Figure size 1440x648 with 1 Axes>"
      ]
     },
     "metadata": {
      "needs_background": "dark"
     },
     "output_type": "display_data"
    }
   ],
   "source": [
    "sick_dataset_train.plotVocabularyCoverage()"
   ]
  },
  {
   "cell_type": "markdown",
   "metadata": {},
   "source": [
    "# Pretrained embeddings\n",
    "https://medium.com/@martinpella/how-to-use-pre-trained-word-embeddings-in-pytorch-71ca59249f76  \n",
    "For each word in dataset’s vocabulary, we check if it is on GloVe’s vocabulary. If it do it, we load its pre-trained word vector. Otherwise, we initialize a random vector."
   ]
  },
  {
   "cell_type": "code",
   "execution_count": 12,
   "metadata": {},
   "outputs": [],
   "source": [
    "EMBEDDINGS_SIZE = 50"
   ]
  },
  {
   "cell_type": "code",
   "execution_count": 13,
   "metadata": {},
   "outputs": [
    {
     "name": "stdout",
     "output_type": "stream",
     "text": [
      "1398 102\n",
      "Downloaded: Pretained Embedding matrix: torch.Size([400000, 50])\n",
      "Adapted:    Pretained Embedding matrix: torch.Size([1502, 50])\n"
     ]
    }
   ],
   "source": [
    "from torchtext import vocab\n",
    "#vocab is shared across all the text fields\n",
    "#CAUTION: GloVe will download all embeddings locally (862 MB).\n",
    "pretrained_emb = vocab.GloVe(name='6B', dim=EMBEDDINGS_SIZE)\n",
    "\n",
    "# 0 is for the padding when using mini-batch (start at one, shift by one)\n",
    "weights_matrix = np.zeros((vocabulary_size + 2, EMBEDDINGS_SIZE)) # do not forget the unk\n",
    "\n",
    "found = 0\n",
    "no_found = 0\n",
    "# build a matrix of weights that will be loaded into the PyTorch embedding layer\n",
    "for word_id in sick_dataset_train.dictionary:\n",
    "    word = sick_dataset_train.dictionary[word_id]\n",
    "    if word in pretrained_emb.stoi:\n",
    "        pretrained_emb_ID = pretrained_emb.stoi[word]\n",
    "        \n",
    "        weights_matrix[word_id+1] = pretrained_emb.vectors[pretrained_emb_ID]\n",
    "        found += 1\n",
    "    else:\n",
    "        weights_matrix[word_id+1] = np.random.normal(scale=0.6, size=(EMBEDDINGS_SIZE, ))\n",
    "        no_found += 1\n",
    "        \n",
    "# UNK\n",
    "weights_matrix[vocabulary_size+1] = np.random.normal(scale=0.6, size=(EMBEDDINGS_SIZE, ))\n",
    "\n",
    "print(found, no_found)\n",
    "        \n",
    "pretrained_emb_vec = torch.tensor(weights_matrix, dtype=torch.float32)\n",
    "print(\"Downloaded: Pretained Embedding matrix: \" +  str(pretrained_emb.vectors.size()))\n",
    "print(\"Adapted:    Pretained Embedding matrix: \" +  str(pretrained_emb_vec.size()))"
   ]
  },
  {
   "cell_type": "code",
   "execution_count": 14,
   "metadata": {},
   "outputs": [
    {
     "name": "stdout",
     "output_type": "stream",
     "text": [
      "[18, 24]\n",
      "standing\n",
      "tensor([-0.4088,  0.6761,  0.0735, -0.1806,  1.2443, -0.0917,  0.0386,  0.1979,\n",
      "        -0.0458, -1.1083, -0.5975, -0.3853, -0.3361,  0.3328, -0.1278, -0.0295,\n",
      "        -0.1130,  0.0644,  0.1915, -0.9226, -0.2098,  0.3553, -0.1223, -0.5348,\n",
      "         0.4177, -1.4884,  0.2423,  0.5807, -0.2651,  0.1545,  2.7154,  0.3619,\n",
      "         0.0442, -0.1549, -0.6539,  0.1046,  0.1774,  0.1194, -0.4762, -0.1801,\n",
      "        -0.6075, -0.2769, -0.3217,  0.6482,  0.0115, -0.3640, -0.4810, -0.6800,\n",
      "        -0.1294, -0.7417])\n"
     ]
    }
   ],
   "source": [
    "print(sick_dataset_train.dictionary.doc2idx([\"the\", \"The\"]))\n",
    "print(sick_dataset_train.dictionary[17])\n",
    "print(pretrained_emb_vec[17+1])\n",
    "# Glove dim=50 word=the vector[:4] = 0.418 0.24968 -0.41242 0.1217"
   ]
  },
  {
   "cell_type": "markdown",
   "metadata": {},
   "source": [
    "# To DataLoader"
   ]
  },
  {
   "cell_type": "code",
   "execution_count": 15,
   "metadata": {},
   "outputs": [],
   "source": [
    "from torch.utils.data import DataLoader"
   ]
  },
  {
   "cell_type": "code",
   "execution_count": 16,
   "metadata": {},
   "outputs": [],
   "source": [
    "def pad_collate(batch):\n",
    "    seqs_labels = np.array(batch)[:,1]\n",
    "    \n",
    "    vectorized_seqs = np.array(batch)[:,0]\n",
    "    seq_lengths = torch.LongTensor([len(x) for x in vectorized_seqs])\n",
    "    \n",
    "    seq_tensor = torch.zeros((len(vectorized_seqs), seq_lengths.max())).long()\n",
    "    for idx, (seq, seq_len) in enumerate(zip(vectorized_seqs, seq_lengths)):\n",
    "        seq_tensor[idx, :seq_len] = torch.LongTensor(seq)\n",
    "        \n",
    "    vectorized_seqs = np.array(seq_tensor)\n",
    "    \n",
    "    return torch.tensor(vectorized_seqs), torch.LongTensor([ x for x in seqs_labels])\n",
    "\n",
    "\n",
    "BATCH_SIZE = 8\n",
    "\n",
    "train_loader = DataLoader(dataset=sick_dataset_train,\n",
    "                          batch_size=BATCH_SIZE, shuffle=True, collate_fn=pad_collate)\n",
    "\n",
    "dev_loader = DataLoader(dataset=sick_dataset_dev,\n",
    "                          batch_size=1, shuffle=False, collate_fn=pad_collate)\n",
    "\n",
    "test_loader = DataLoader(dataset=sick_dataset_test,\n",
    "                          batch_size=1, shuffle=False)\n",
    "\n",
    "# Debug the padding\n",
    "# display([ x for x in enumerate(train_loader)][0]) # has padding (sample of same size padded with 0)\n",
    "# display([ x for x in enumerate(dev_loader)][0]) # no batch == no padding"
   ]
  },
  {
   "cell_type": "markdown",
   "metadata": {},
   "source": [
    "# Evaluation helpers"
   ]
  },
  {
   "cell_type": "code",
   "execution_count": 17,
   "metadata": {},
   "outputs": [],
   "source": [
    "from sklearn.metrics import confusion_matrix\n",
    "from sklearn.metrics import accuracy_score\n",
    "\n",
    "from sklearn.metrics import precision_recall_fscore_support\n",
    "\n",
    "import itertools\n",
    "import io\n",
    "from tensorboardX.utils import figure_to_image\n",
    "import matplotlib\n",
    "\n",
    "def confusion_scores(total_labels, total_pred, writer=None):\n",
    "    fig = plt.figure(figsize=(10,10))\n",
    "    classes = SickDataset.text_label\n",
    "    title='Confusion matrix'\n",
    "    \n",
    "    cm = confusion_matrix(total_labels, total_pred, labels=[0, 1, 2])\n",
    "    \n",
    "    plt.rcParams[\"figure.figsize\"] = [10, 10]\n",
    "    plt.imshow(cm, interpolation='nearest', cmap=plt.cm.Blues)\n",
    "    plt.title(title, color='gray', fontsize=24)\n",
    "    plt.colorbar()\n",
    "    tick_marks = np.arange(len(classes))\n",
    "    plt.xticks(tick_marks, [c.lower() for c in classes], rotation=45 , style='italic', color='gray', fontsize=17)\n",
    "    plt.yticks(tick_marks, [c.lower() for c in classes], color='gray', style='italic', fontsize=17)\n",
    "\n",
    "    thresh = cm.max() / 2.\n",
    "    for i, j in itertools.product(range(cm.shape[0]), range(cm.shape[1])):\n",
    "        plt.text(j, i, format(cm[i, j], 'd'),\n",
    "                 horizontalalignment=\"center\",\n",
    "                 color=\"white\" if cm[i, j] > thresh else \"black\")\n",
    "\n",
    "    plt.ylabel('True label', color='gray', fontsize=19)\n",
    "    plt.xlabel('Predicted label', color='gray', fontsize=19)\n",
    "    plt.tight_layout()\n",
    "    plt.show()\n",
    "    if writer != None:\n",
    "        writer.add_figure('plt/confusion_matrix', fig, 0)\n",
    "\n",
    "\n",
    "def evaluate(model, loader, whileTraining=False, criterion=None, writer=None):\n",
    "    \"\"\"\n",
    "    Displays the confusion_matrix the precision recall fscore\n",
    "    If in whileTrainnig Mode only return the accuracy and loss\n",
    "    \"\"\"\n",
    "    model.eval()\n",
    "    with torch.no_grad():\n",
    "        total_labels = torch.LongTensor([])\n",
    "        total_pred = torch.LongTensor([])\n",
    "        train_loss_batches = 0\n",
    "        train_loss_batches_count = 0\n",
    "        for batch_idx, (data, target) in enumerate(loader):\n",
    "\n",
    "                data = data.to(device)\n",
    "                target = target.to(device)\n",
    "\n",
    "                output = rnn(data)\n",
    "                \n",
    "                if whileTraining and criterion != None:\n",
    "                    loss = criterion(output, target)\n",
    "                    train_loss_batches +=loss.cpu().detach().numpy()\n",
    "                    train_loss_batches_count += 1\n",
    "\n",
    "                # Get the Accuracy\n",
    "                _, predicted = torch.max(output.data, dim=1)\n",
    "                correct = (predicted == target).sum().item()\n",
    "                \n",
    "                total_labels = torch.cat((total_labels, target.cpu()))\n",
    "                total_pred = torch.cat((total_pred, predicted.cpu()))\n",
    "                \n",
    "                \n",
    "        model.train()\n",
    "        if whileTraining and criterion!=None:\n",
    "            return ((accuracy_score(total_labels.flatten().numpy(), total_pred.flatten().numpy()) * 100), train_loss_batches / train_loss_batches_count)\n",
    "\n",
    "                \n",
    "        confusion_scores(total_labels, total_pred, writer=writer)\n",
    "        \n",
    "        print(\"Accuracy:  {:.4f}\".format(accuracy_score(total_labels, total_pred)))\n",
    "        \n",
    "        # compute per-label precisions, recalls, F1-scores, and supports instead of averaging \n",
    "        metrics = precision_recall_fscore_support(\n",
    "                                        total_labels, total_pred,\n",
    "                                        average=None, labels=[0, 1, 2])\n",
    "        \n",
    "        df = pd.DataFrame(list(metrics), index=['Precision', 'Recall', 'Fscore', 'support'],\n",
    "                                   columns=SickDataset.text_label)\n",
    "        df = df.drop(['support'], axis=0)\n",
    "        display(df.T)\n",
    "        \n"
   ]
  },
  {
   "cell_type": "markdown",
   "metadata": {},
   "source": [
    "# Create the RNN Model"
   ]
  },
  {
   "cell_type": "code",
   "execution_count": 18,
   "metadata": {},
   "outputs": [],
   "source": [
    "from torch import nn"
   ]
  },
  {
   "cell_type": "code",
   "execution_count": 19,
   "metadata": {
    "scrolled": false
   },
   "outputs": [
    {
     "name": "stdout",
     "output_type": "stream",
     "text": [
      "RNNClassifier(\n",
      "  (embedding): Embedding(1502, 50, padding_idx=0)\n",
      "  (rnn): GRU(50, 20, batch_first=True, bidirectional=True)\n",
      "  (fc1): Linear(in_features=40, out_features=3, bias=True)\n",
      "  (softmax): Softmax()\n",
      ")\n"
     ]
    }
   ],
   "source": [
    "class RNNClassifier(nn.Module):\n",
    "    # Our model\n",
    "\n",
    "    def __init__(self, input_voc_size, embedding_size, hidden_size):\n",
    "        super(RNNClassifier, self).__init__()\n",
    "        \n",
    "        self.input_voc_size = input_voc_size\n",
    "        self.embedding_size = embedding_size\n",
    "        self.hidden_size = hidden_size\n",
    "        self.rnn_out_size = hidden_size * 2\n",
    "\n",
    "        \n",
    "        self.num_classes = 3\n",
    "        \n",
    "        # Add the padding token (0) (+1 to voc_size)\n",
    "        # Pads the output with the embedding vector at padding_idx whenever it encounters the index..\n",
    "        self.embedding = nn.Embedding(input_voc_size+1, embedding_size, padding_idx=0)\n",
    "        # Load the pretrained embeddings\n",
    "        # self.embedding.weight = nn.Parameter(pretrained_emb_vec) \n",
    "        # embeddings fine-tuning\n",
    "        self.embedding.weight.requires_grad = False\n",
    "        \n",
    "        self.rnn = nn.GRU(\n",
    "              input_size=embedding_size,\n",
    "              hidden_size=hidden_size,\n",
    "              batch_first=True,\n",
    "              bidirectional=True,\n",
    "        )\n",
    "        \n",
    "        self.fc1 = nn.Linear(self.rnn_out_size, self.num_classes)\n",
    "        self.softmax = nn.Softmax(dim=1)\n",
    "        \n",
    "    # input shape: B x S (input size)\n",
    "    def forward(self, x):\n",
    "        \n",
    "        vprint(\"\\nsize input\", x.size())\n",
    "        batch_size = x.size(0)\n",
    "        \n",
    "        # Initialize hidden (num_layers * num_directions, batch_size, hidden_size)\n",
    "        h_0 = torch.zeros(2, batch_size, self.hidden_size)\n",
    "        vprint(\"size hidden init\", h_0.size())\n",
    "        \n",
    "        # When creating new variables inside a model (like the hidden state in an RNN/GRU/LSTM),\n",
    "        # make sure to also move them to the device (GPU or CPU).\n",
    "        h_0 = h_0.to(device)\n",
    "\n",
    "        # Embedding B x S -> B x S x I (embedding size)\n",
    "        emb = self.embedding(x)\n",
    "        vprint(\"size Embedding\", emb.size())\n",
    "        \n",
    "        # Propagate embedding through RNN\n",
    "        # Input: (batch, seq_len, embedding_size)\n",
    "        # h_0: (num_layers * num_directions, batch, hidden_size)\n",
    "        out, hidden = self.rnn(emb, h_0)\n",
    "        \n",
    "        vprint(\"size hidden\", hidden.size())\n",
    "        \n",
    "        rnn_out = torch.cat((hidden[0], hidden[1]), 1)\n",
    "        vprint(\"size rnn out\", rnn_out.size())\n",
    "        \n",
    "        \n",
    "        # Use the last layer output as FC's input\n",
    "        layout_fc1 = self.fc1(rnn_out)\n",
    "        vprint(\"size layout fc1\", layout_fc1.size())\n",
    "        \n",
    "        fc_output = self.softmax(layout_fc1)\n",
    "        \n",
    "        return fc_output    \n",
    "    \n",
    "# Add the unknown token (+1 to voc_size)\n",
    "rnn = RNNClassifier(vocabulary_size+1, EMBEDDINGS_SIZE, 20)\n",
    "rnn.to(device)\n",
    "print(rnn)\n",
    "\n",
    "# Set loss and optimizer function\n",
    "# CrossEntropyLoss = LogSoftmax + NLLLoss\n",
    "weights = [1-((sick_dataset_train.df['entailment_id'] == i).sum() / len(sick_dataset_train)) for i in range(3)]\n",
    "class_weights = torch.FloatTensor(weights).to(device)\n",
    "criterion = torch.nn.CrossEntropyLoss(weight=class_weights)\n",
    "\n",
    "optimizer = torch.optim.Adam(rnn.parameters(), lr=0.001)"
   ]
  },
  {
   "cell_type": "code",
   "execution_count": 20,
   "metadata": {},
   "outputs": [],
   "source": [
    "from tensorboardX import SummaryWriter\n",
    "writer = SummaryWriter()"
   ]
  },
  {
   "cell_type": "code",
   "execution_count": 21,
   "metadata": {},
   "outputs": [],
   "source": [
    "import os\n",
    "import errno\n",
    "\n",
    "def force_symlink(file1, file2):\n",
    "    if os.path.exists(file2):\n",
    "        os.remove(file2)\n",
    "    os.symlink(file1, file2)"
   ]
  },
  {
   "cell_type": "markdown",
   "metadata": {},
   "source": [
    "# Training the Model "
   ]
  },
  {
   "cell_type": "code",
   "execution_count": 22,
   "metadata": {
    "scrolled": false
   },
   "outputs": [
    {
     "name": "stdout",
     "output_type": "stream",
     "text": [
      "Epoch [  1/40] | Step [ 2248/4500 (100%)] | Loss 1.116 | Accuracy 56.07% @ Loss_dev 0.985 | Accuracy_dev 56.00%\n",
      "Epoch [  2/40] | Step [ 2248/4500 (100%)] | Loss 1.179 | Accuracy 56.53% @ Loss_dev 0.974 | Accuracy_dev 56.80%\n",
      "Epoch [  3/40] | Step [ 2248/4500 (100%)] | Loss 0.988 | Accuracy 58.69% @ Loss_dev 0.928 | Accuracy_dev 59.40%\n",
      "Epoch [  4/40] | Step [ 2248/4500 (100%)] | Loss 1.072 | Accuracy 59.69% @ Loss_dev 0.924 | Accuracy_dev 60.40%\n",
      "Epoch [  5/40] | Step [ 2248/4500 (100%)] | Loss 0.748 | Accuracy 62.11% @ Loss_dev 0.925 | Accuracy_dev 60.40%\n",
      "Epoch [  6/40] | Step [ 2248/4500 (100%)] | Loss 0.934 | Accuracy 63.80% @ Loss_dev 0.932 | Accuracy_dev 58.80%\n",
      "Epoch [  7/40] | Step [ 2248/4500 (100%)] | Loss 1.198 | Accuracy 65.51% @ Loss_dev 0.951 | Accuracy_dev 56.80%\n",
      "Epoch [  8/40] | Step [ 2248/4500 (100%)] | Loss 0.773 | Accuracy 66.31% @ Loss_dev 0.933 | Accuracy_dev 59.60%\n",
      "Epoch [  9/40] | Step [ 2248/4500 (100%)] | Loss 0.829 | Accuracy 67.44% @ Loss_dev 0.940 | Accuracy_dev 58.40%\n",
      "Epoch [ 10/40] | Step [ 2248/4500 (100%)] | Loss 0.942 | Accuracy 68.38% @ Loss_dev 0.911 | Accuracy_dev 63.80%\n",
      "Epoch [ 11/40] | Step [ 2248/4500 (100%)] | Loss 1.016 | Accuracy 69.33% @ Loss_dev 0.908 | Accuracy_dev 63.40%\n",
      "Epoch [ 12/40] | Step [ 2248/4500 (100%)] | Loss 0.944 | Accuracy 69.60% @ Loss_dev 0.914 | Accuracy_dev 61.80%\n",
      "Epoch [ 13/40] | Step [ 2248/4500 (100%)] | Loss 0.717 | Accuracy 70.96% @ Loss_dev 0.918 | Accuracy_dev 62.60%\n",
      "Epoch [ 14/40] | Step [ 2248/4500 (100%)] | Loss 0.932 | Accuracy 72.13% @ Loss_dev 0.944 | Accuracy_dev 57.40%\n",
      "Epoch [ 15/40] | Step [ 2248/4500 (100%)] | Loss 0.742 | Accuracy 73.58% @ Loss_dev 0.929 | Accuracy_dev 60.40%\n",
      "Epoch [ 16/40] | Step [ 2248/4500 (100%)] | Loss 0.963 | Accuracy 73.73% @ Loss_dev 0.933 | Accuracy_dev 59.60%\n",
      "Epoch [ 17/40] | Step [ 2248/4500 (100%)] | Loss 0.559 | Accuracy 74.93% @ Loss_dev 0.918 | Accuracy_dev 61.00%\n",
      "Epoch [ 18/40] | Step [ 2248/4500 (100%)] | Loss 1.211 | Accuracy 74.96% @ Loss_dev 0.921 | Accuracy_dev 60.20%\n",
      "Epoch [ 19/40] | Step [ 2248/4500 (100%)] | Loss 0.782 | Accuracy 76.20% @ Loss_dev 0.927 | Accuracy_dev 61.20%\n",
      "Epoch [ 20/40] | Step [ 2248/4500 (100%)] | Loss 1.024 | Accuracy 76.89% @ Loss_dev 0.937 | Accuracy_dev 60.60%\n",
      "Epoch [ 21/40] | Step [ 2248/4500 (100%)] | Loss 0.572 | Accuracy 77.20% @ Loss_dev 0.944 | Accuracy_dev 59.00%\n",
      "Epoch [ 22/40] | Step [ 2248/4500 (100%)] | Loss 0.783 | Accuracy 77.51% @ Loss_dev 0.922 | Accuracy_dev 61.40%\n",
      "Epoch [ 23/40] | Step [ 2248/4500 (100%)] | Loss 1.257 | Accuracy 78.80% @ Loss_dev 0.937 | Accuracy_dev 59.60%\n",
      "Epoch [ 24/40] | Step [ 2248/4500 (100%)] | Loss 1.075 | Accuracy 78.51% @ Loss_dev 0.923 | Accuracy_dev 61.60%\n",
      "Epoch [ 25/40] | Step [ 2248/4500 (100%)] | Loss 0.854 | Accuracy 79.40%  @ Loss_dev 0.923 | Accuracy_dev 61.60%\n",
      "Epoch [ 26/40] | Step [ 2248/4500 (100%)] | Loss 0.552 | Accuracy 79.47% @ Loss_dev 0.928 | Accuracy_dev 61.40%\n",
      "Epoch [ 27/40] | Step [ 2248/4500 (100%)] | Loss 0.553 | Accuracy 78.91% @ Loss_dev 0.939 | Accuracy_dev 61.00%\n",
      "Epoch [ 28/40] | Step [ 2248/4500 (100%)] | Loss 0.769 | Accuracy 80.13% @ Loss_dev 0.931 | Accuracy_dev 60.80%\n",
      "Epoch [ 29/40] | Step [ 2248/4500 (100%)] | Loss 0.774 | Accuracy 80.24% @ Loss_dev 0.928 | Accuracy_dev 61.20%\n",
      "Epoch [ 30/40] | Step [ 2248/4500 (100%)] | Loss 0.554 | Accuracy 80.84%  @ Loss_dev 0.923 | Accuracy_dev 62.20%\n",
      "Epoch [ 31/40] | Step [ 2248/4500 (100%)] | Loss 0.557 | Accuracy 81.60% @ Loss_dev 0.929 | Accuracy_dev 60.60%\n",
      "Epoch [ 32/40] | Step [ 2248/4500 (100%)] | Loss 0.554 | Accuracy 81.60% @ Loss_dev 0.919 | Accuracy_dev 62.00%\n",
      "Epoch [ 33/40] | Step [ 2248/4500 (100%)] | Loss 0.756 | Accuracy 81.56% @ Loss_dev 0.923 | Accuracy_dev 62.20%\n",
      "Epoch [ 34/40] | Step [ 2248/4500 (100%)] | Loss 0.553 | Accuracy 81.87% @ Loss_dev 0.932 | Accuracy_dev 60.80%\n",
      "Epoch [ 35/40] | Step [ 2248/4500 (100%)] | Loss 0.552 | Accuracy 82.73% @ Loss_dev 0.925 | Accuracy_dev 61.00%\n",
      "Epoch [ 36/40] | Step [ 2248/4500 (100%)] | Loss 0.551 | Accuracy 82.71% @ Loss_dev 0.922 | Accuracy_dev 62.60%\n",
      "Epoch [ 37/40] | Step [ 2248/4500 (100%)] | Loss 0.558 | Accuracy 83.27% @ Loss_dev 0.919 | Accuracy_dev 62.60%\n",
      "Epoch [ 38/40] | Step [ 2248/4500 (100%)] | Loss 0.553 | Accuracy 82.78% @ Loss_dev 0.916 | Accuracy_dev 62.40%\n",
      "Epoch [ 39/40] | Step [ 2248/4500 (100%)] | Loss 0.597 | Accuracy 83.31% @ Loss_dev 0.928 | Accuracy_dev 61.80%\n",
      "Epoch [ 40/40] | Step [ 2248/4500 (100%)] | Loss 0.557 | Accuracy 83.56% @ Loss_dev 0.937 | Accuracy_dev 59.60%\n",
      "Learning finished!\n",
      "CPU times: user 3min 36s, sys: 3.87 s, total: 3min 40s\n",
      "Wall time: 3min 40s\n"
     ]
    }
   ],
   "source": [
    "%%time\n",
    "# Train the model\n",
    "\n",
    "num_epochs=40\n",
    "\n",
    "iter = 0\n",
    "iter_batch = 0\n",
    "best_accuracy_dev = 0.0\n",
    "\n",
    "rnn.train()\n",
    "for epoch in range(num_epochs):\n",
    "    total_correct = 0\n",
    "    total_target = 0\n",
    "    train_loss_batches = 0\n",
    "    train_loss_batches_count = 0\n",
    "    for batch_idx, (data, target) in enumerate(train_loader):\n",
    "        \n",
    "        data = data.to(device)\n",
    "        target = target.to(device)\n",
    "        \n",
    "        output = rnn(data)\n",
    "        \n",
    "        vprint(output)\n",
    "        loss = criterion(output, target)\n",
    "        \n",
    "        \n",
    "        train_loss_batches += loss.cpu().detach().numpy()\n",
    "        train_loss_batches_count += 1\n",
    "        \n",
    "        rnn.zero_grad()\n",
    "        loss.backward()\n",
    "        optimizer.step()\n",
    "        \n",
    "        # Get the Accuracy\n",
    "        _, predicted = torch.max(output.data, dim=1)\n",
    "        correct = (predicted == target).sum().item()\n",
    "        \n",
    "        total_correct += correct\n",
    "        total_target += target.size(0)\n",
    "        \n",
    "        if batch_idx % 200 == 0 or batch_idx % 200 == 1 or batch_idx == len(train_loader)-1:\n",
    "            print('\\rEpoch [{:3}/{}] | Step [{:5}/{} ({:3.0f}%)] | Loss {:.3f} | Accuracy {:.2f}%'.format(\n",
    "                    epoch+1, num_epochs,\n",
    "                    batch_idx * len(data), \n",
    "                    len(train_loader.dataset),\n",
    "                    100. * batch_idx / len(train_loader), \n",
    "                    loss.item(), \n",
    "                    (total_correct / total_target) * 100), end=' ')\n",
    "            \n",
    "            writer.add_scalar('data/loss/_train_only', train_loss_batches / train_loss_batches_count, iter_batch)\n",
    "            iter_batch += 1\n",
    "            \n",
    "        if Verbose:\n",
    "            break\n",
    "            \n",
    "    accuracy_dev, loss_dev = evaluate(rnn, dev_loader, criterion=criterion, whileTraining=True)\n",
    "    print(\"@ Loss_dev {:.3f} | Accuracy_dev {:.2f}%\".format(loss_dev, accuracy_dev))\n",
    "    \n",
    "    if best_accuracy_dev < accuracy_dev:\n",
    "        best_accuracy_dev = accuracy_dev\n",
    "        file = 'checkpoint.pth.' + str(epoch) + '.acc.' + str(round(accuracy_dev,2)) + '.tar'\n",
    "        torch.save({\n",
    "            'epoch': epoch,\n",
    "            'model_state_dict': rnn.state_dict(),\n",
    "            'loss': loss,\n",
    "            }, file)\n",
    "        force_symlink(file, 'checkpoint.pth.best.tar')\n",
    "\n",
    "    writer.add_scalars('data/loss/evol', {'train': train_loss_batches / train_loss_batches_count,\n",
    "                                         'dev': loss_dev}, iter)\n",
    "    iter += 1\n",
    "            \n",
    "            \n",
    "\n",
    "\n",
    "print(\"Learning finished!\")"
   ]
  },
  {
   "cell_type": "markdown",
   "metadata": {},
   "source": [
    "# Evaluate the model on dev"
   ]
  },
  {
   "cell_type": "code",
   "execution_count": 23,
   "metadata": {},
   "outputs": [
    {
     "name": "stdout",
     "output_type": "stream",
     "text": [
      "=> loaded checkpoint epoch 9\n"
     ]
    }
   ],
   "source": [
    "checkpoint = torch.load('checkpoint.pth.best.tar')\n",
    "rnn.load_state_dict(checkpoint['model_state_dict'])\n",
    "print(\"=> loaded checkpoint epoch {}\"\n",
    "      .format(checkpoint['epoch']))"
   ]
  },
  {
   "cell_type": "code",
   "execution_count": 24,
   "metadata": {},
   "outputs": [
    {
     "data": {
      "image/png": "[encoded data removed]",
      "text/plain": [
       "<Figure size 720x720 with 2 Axes>"
      ]
     },
     "metadata": {},
     "output_type": "display_data"
    },
    {
     "name": "stdout",
     "output_type": "stream",
     "text": [
      "Accuracy:  0.6380\n"
     ]
    },
    {
     "data": {
      "text/html": [
       "<div>\n",
       "<style scoped>\n",
       "    .dataframe tbody tr th:only-of-type {\n",
       "        vertical-align: middle;\n",
       "    }\n",
       "\n",
       "    .dataframe tbody tr th {\n",
       "        vertical-align: top;\n",
       "    }\n",
       "\n",
       "    .dataframe thead th {\n",
       "        text-align: right;\n",
       "    }\n",
       "</style>\n",
       "<table border=\"1\" class=\"dataframe\">\n",
       "  <thead>\n",
       "    <tr style=\"text-align: right;\">\n",
       "      <th></th>\n",
       "      <th>Precision</th>\n",
       "      <th>Recall</th>\n",
       "      <th>Fscore</th>\n",
       "    </tr>\n",
       "  </thead>\n",
       "  <tbody>\n",
       "    <tr>\n",
       "      <th>NEUTRAL</th>\n",
       "      <td>0.700375</td>\n",
       "      <td>0.663121</td>\n",
       "      <td>0.681239</td>\n",
       "    </tr>\n",
       "    <tr>\n",
       "      <th>ENTAILMENT</th>\n",
       "      <td>0.503497</td>\n",
       "      <td>0.500000</td>\n",
       "      <td>0.501742</td>\n",
       "    </tr>\n",
       "    <tr>\n",
       "      <th>CONTRADICTION</th>\n",
       "      <td>0.666667</td>\n",
       "      <td>0.810811</td>\n",
       "      <td>0.731707</td>\n",
       "    </tr>\n",
       "  </tbody>\n",
       "</table>\n",
       "</div>"
      ],
      "text/plain": [
       "               Precision    Recall    Fscore\n",
       "NEUTRAL         0.700375  0.663121  0.681239\n",
       "ENTAILMENT      0.503497  0.500000  0.501742\n",
       "CONTRADICTION   0.666667  0.810811  0.731707"
      ]
     },
     "metadata": {},
     "output_type": "display_data"
    },
    {
     "name": "stdout",
     "output_type": "stream",
     "text": [
      "CPU times: user 1.93 s, sys: 712 ms, total: 2.64 s\n",
      "Wall time: 1.75 s\n"
     ]
    }
   ],
   "source": [
    "%%time\n",
    "\n",
    "evaluate(rnn, dev_loader, writer=writer)"
   ]
  },
  {
   "cell_type": "markdown",
   "metadata": {},
   "source": [
    "# Evaluate the model on test"
   ]
  },
  {
   "cell_type": "code",
   "execution_count": 25,
   "metadata": {},
   "outputs": [
    {
     "name": "stdout",
     "output_type": "stream",
     "text": [
      "CPU times: user 0 ns, sys: 0 ns, total: 0 ns\n",
      "Wall time: 8.34 µs\n"
     ]
    }
   ],
   "source": [
    "%%time\n",
    "\n",
    "# evaluate(rnn, test_loader)"
   ]
  }
 ],
 "metadata": {
  "kernelspec": {
   "display_name": "Python 3",
   "language": "python",
   "name": "python3"
  },
  "language_info": {
   "codemirror_mode": {
    "name": "ipython",
    "version": 3
   },
   "file_extension": ".py",
   "mimetype": "text/x-python",
   "name": "python",
   "nbconvert_exporter": "python",
   "pygments_lexer": "ipython3",
   "version": "3.5.2"
  }
 },
 "nbformat": 4,
 "nbformat_minor": 2
}

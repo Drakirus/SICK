{
 "cells": [
  {
   "cell_type": "code",
   "execution_count": 1,
   "metadata": {},
   "outputs": [],
   "source": [
    "Verbose = False\n",
    "if Verbose:\n",
    "    def vprint(*args, **kwargs): print(*args, **kwargs, flush=True)\n",
    "else: # do-nothing function\n",
    "    def vprint(*args, **kwargs): None"
   ]
  },
  {
   "cell_type": "code",
   "execution_count": 2,
   "metadata": {},
   "outputs": [],
   "source": [
    "import torch\n",
    "import numpy as np\n",
    "import pandas as pd\n",
    "pd.set_option(\"display.width\", 380)\n",
    "pd.set_option('max_colwidth', 100)\n",
    "\n",
    "import matplotlib.pyplot as plt\n",
    "\n",
    "from IPython.display import display\n",
    "\n",
    "device = torch.device('cuda:1' if torch.cuda.is_available() else 'cpu')"
   ]
  },
  {
   "cell_type": "markdown",
   "metadata": {},
   "source": [
    "# Load the sentences"
   ]
  },
  {
   "cell_type": "code",
   "execution_count": 3,
   "metadata": {
    "scrolled": true
   },
   "outputs": [],
   "source": [
    "df_train = pd.read_csv(\"./sick_train/SICK_train.txt\", sep=\"\\t\")\n",
    "df_train = df_train.drop(['relatedness_score'], axis=1)\n",
    "\n",
    "df_dev = pd.read_csv(\"./sick_trial/SICK_trial.txt\", sep=\"\\t\")\n",
    "df_dev = df_dev.drop(['relatedness_score'], axis=1)\n",
    "\n",
    "df_test = pd.read_csv(\"./sick_test/SICK_test.txt\", sep=\"\\t\")\n",
    "df_test = df_test.drop(['relatedness_score'], axis=1)"
   ]
  },
  {
   "cell_type": "code",
   "execution_count": null,
   "metadata": {},
   "outputs": [],
   "source": [
    "if False:\n",
    "    word_occ = training_set.reparti_word\n",
    "    word_occ = dict(word_occ)\n",
    "    \n",
    "    total = sum([value for key, value in training_set.reparti_word.most_common(len(training_set.word_list))])\n",
    "    \n",
    "    values = [sum([value for key, value in training_set.reparti_word.most_common(i+1)])/total*100 for i in range(len(training_set.reparti_word))]\n",
    "\n",
    "    x = np.linspace(0, len(values), len(values))\n",
    "    fig = plt.figure(figsize=(13, 8))\n",
    "    ax = fig.add_subplot(1,1,1)\n",
    "    cnn_line, = ax.plot(x, values)\n",
    "\n",
    "    ax.set(xlabel=\"Vocabulaire unique\", ylabel=\"Couverture en %\")"
   ]
  },
  {
   "cell_type": "code",
   "execution_count": 4,
   "metadata": {},
   "outputs": [],
   "source": [
    "from torch.utils.data import Dataset\n",
    "from torch.utils.data.dataloader import DataLoader"
   ]
  },
  {
   "cell_type": "code",
   "execution_count": 71,
   "metadata": {},
   "outputs": [],
   "source": [
    "from gensim import corpora\n",
    "from collections import Counter"
   ]
  },
  {
   "cell_type": "code",
   "execution_count": 229,
   "metadata": {
    "scrolled": false
   },
   "outputs": [],
   "source": [
    "class SickDataset(Dataset):\n",
    "    endOfSentence   = '</s>'\n",
    "    startOfSentence = '<s>'\n",
    "    separator2Sentences = '<sep>'\n",
    "    \n",
    "    text_label = [\"NEUTRAL\", \"ENTAILMENT\", \"CONTRADICTION\"]\n",
    "    \n",
    "    tokens = [startOfSentence, separator2Sentences, endOfSentence]\n",
    "    \n",
    "    def join_sentence(self, row):\n",
    "        \"\"\"\n",
    "        Create a new sentence (<s> + s_A + <sep> + s_B + </s>)\n",
    "        \"\"\"\n",
    "        sentence_a = row['sentence_A'].lower().split(\" \")\n",
    "        sentence_b = row['sentence_B'].lower().split(\" \")\n",
    "        return np.concatenate((\n",
    "            [self.startOfSentence],\n",
    "            sentence_a,\n",
    "            [self.separator2Sentences],\n",
    "            sentence_b,\n",
    "            [self.endOfSentence]\n",
    "        ))\n",
    "    \n",
    "    def series_text_2_labelID(self, series, keep_n=1000):\n",
    "        \"\"\"\n",
    "        Convert text Label into label id\n",
    "        \"\"\"\n",
    "        reverse_dict = {v: k for k, v in  dict(enumerate(self.text_label)).items()}\n",
    "        return series.map(reverse_dict)\n",
    "    \n",
    "    def series_2_dict(self, series, keep_n):\n",
    "        \"\"\"\n",
    "        Convert document (a list of words) into a list of indexes\n",
    "        AND apply some filter on the documents\n",
    "        \"\"\"\n",
    "        dictionary = corpora.Dictionary(series)\n",
    "        dictionary.filter_extremes(\n",
    "            no_below=1,\n",
    "            no_above=1,\n",
    "            keep_n=keep_n,\n",
    "            keep_tokens=self.tokens)\n",
    "        return dictionary\n",
    "    \n",
    "    \n",
    "    def __init__(self, df, vocabulary_size, dic=None):\n",
    "        self.vocabulary_size = vocabulary_size\n",
    "        \n",
    "        # Label text as ids\n",
    "        df[\"entailment_id\"] = self.series_text_2_labelID(df['entailment_judgment'])\n",
    "        \n",
    "        # Add <s>,</s>,<sep> tokens to the vocabulary\n",
    "        df['sentence_AB'] = df.apply(self.join_sentence, axis=1)\n",
    "        \n",
    "        # check if the dictionary is given\n",
    "        if dic is None:\n",
    "            # Create the Dictionary\n",
    "            self.dictionary = self.series_2_dict(df['sentence_AB'], vocabulary_size)\n",
    "        else:\n",
    "            self.dictionary = dic\n",
    "        \n",
    "        # sentence of words -> array of idx\n",
    "        # Adds unknown to the voc (idx = len(dictionary)), len(dictionary) = vocabulary_size\n",
    "        # Adds one to each (no tokens at 0, even <unk>)\n",
    "        # 0 is for the padding when using mini-batch\n",
    "        df[\"word_idx\"] = df[\"sentence_AB\"].apply(\n",
    "            lambda word: np.array(self.dictionary.doc2idx(word, unknown_word_index=vocabulary_size)) + 1\n",
    "        )\n",
    "        \n",
    "        self.df = df\n",
    "\n",
    "        # compute a sorted occurence dictionary on the whole corpus\n",
    "        occ_dict = {}\n",
    "        for serie in df['sentence_AB']:\n",
    "            unique, counts = np.unique(serie, return_counts=True)\n",
    "            tmp_dict = dict(zip(unique, counts))\n",
    "            \n",
    "            for key, value in tmp_dict.items():\n",
    "                if key in occ_dict:\n",
    "                    occ_dict[key] = occ_dict[key] + tmp_dict[key]\n",
    "                else:\n",
    "                    occ_dict[key] = value\n",
    "        \n",
    "        self.occ_dict_list = [[key, value] for key, value in occ_dict.items()]\n",
    "        self.occ_dict_list.sort(key=lambda x: x[1], reverse=True)\n",
    "        \n",
    "    def getSortedOccDictList(self):\n",
    "        return self.occ_dict_list\n",
    "    \n",
    "    def plotVocabularyCoverage(self):\n",
    "        occdict_list = self.occ_dict_list\n",
    "        \n",
    "        total = 0\n",
    "        y = []\n",
    "        for i, value in enumerate(occdict_list):\n",
    "            total += value[1]\n",
    "            y.append(total)\n",
    "            if (i == self.vocabulary_size):\n",
    "                current_voc_cov = total\n",
    "\n",
    "        current_voc_cov = current_voc_cov*100.0/total\n",
    "        \n",
    "        y = [tmp*100.0/total for tmp in y]\n",
    "\n",
    "        x = np.linspace(0, len(values), len(values))\n",
    "\n",
    "        # Show graph\n",
    "        fig_size = plt.rcParams[\"figure.figsize\"]\n",
    "        fig_size[0] = 20\n",
    "        fig_size[1] = 9\n",
    "        plt.rcParams[\"figure.figsize\"] = fig_size\n",
    "\n",
    "        legend, = plt.plot(x, y, label='Vocabulary size ')\n",
    "\n",
    "        plt.title(('Current vocabulary size n=' + str(self.vocabulary_size) + ' coverage = ' +\"{:.4}\".format(current_voc_cov) + '%'),\n",
    "                     fontsize=14, fontweight='bold', color='gray')\n",
    "        plt.suptitle(('Vocabulary coverage'),\n",
    "                     fontsize=24, fontweight='bold', color='gray')\n",
    "        plt.xlabel(\"Size of unique vocabulary\", color='gray', fontsize=14)\n",
    "        plt.ylabel(\"Vocabulary coverage %\", color='gray', fontsize=14)\n",
    "\n",
    "        ## Plot Swagg ##\n",
    "        plt.yticks(fontsize=14, rotation=0, color='gray')\n",
    "        plt.xticks(fontsize=14, rotation=0, color='gray')\n",
    "\n",
    "        # Less border\n",
    "        plt.gca().xaxis.grid(True)\n",
    "        plt.gca().yaxis.grid(True)\n",
    "        plt.gca().spines['top'].set_visible(False)\n",
    "        plt.gca().spines['right'].set_visible(False)\n",
    "        plt.gca().spines['left'].set_visible(False)\n",
    "        plt.gca().spines['bottom'].set_visible(False)\n",
    "        plt.show()\n",
    "        \n",
    "        \n",
    "        \n",
    "    def getRef(self, index):\n",
    "        return self.df['sentence_AB'][index]\n",
    "        \n",
    "    def __getitem__(self, index):\n",
    "        return (\n",
    "            self.df['word_idx'][index],\n",
    "            self.df['entailment_id'][index])\n",
    "    \n",
    "    def getDictionary(self):\n",
    "        return self.dictionary\n",
    "    \n",
    "    def __len__(self):\n",
    "        return len(self.df)\n",
    "\n",
    "    \n",
    "vocabulary_size = 1500"
   ]
  },
  {
   "cell_type": "markdown",
   "metadata": {},
   "source": [
    "# Dataset"
   ]
  },
  {
   "cell_type": "code",
   "execution_count": 230,
   "metadata": {},
   "outputs": [
    {
     "data": {
      "text/html": [
       "<div>\n",
       "<style scoped>\n",
       "    .dataframe tbody tr th:only-of-type {\n",
       "        vertical-align: middle;\n",
       "    }\n",
       "\n",
       "    .dataframe tbody tr th {\n",
       "        vertical-align: top;\n",
       "    }\n",
       "\n",
       "    .dataframe thead th {\n",
       "        text-align: right;\n",
       "    }\n",
       "</style>\n",
       "<table border=\"1\" class=\"dataframe\">\n",
       "  <thead>\n",
       "    <tr style=\"text-align: right;\">\n",
       "      <th></th>\n",
       "      <th>pair_ID</th>\n",
       "      <th>sentence_A</th>\n",
       "      <th>sentence_B</th>\n",
       "      <th>entailment_judgment</th>\n",
       "      <th>entailment_id</th>\n",
       "      <th>sentence_AB</th>\n",
       "      <th>word_idx</th>\n",
       "    </tr>\n",
       "  </thead>\n",
       "  <tbody>\n",
       "    <tr>\n",
       "      <th>0</th>\n",
       "      <td>1</td>\n",
       "      <td>A group of kids is playing in a yard and an old man is standing in the background</td>\n",
       "      <td>A group of boys in a yard is playing and a man is standing in the background</td>\n",
       "      <td>NEUTRAL</td>\n",
       "      <td>0</td>\n",
       "      <td>[&lt;s&gt;, a, group, of, kids, is, playing, in, a, yard, and, an, old, man, is, standing, in, the, ba...</td>\n",
       "      <td>[2, 4, 9, 14, 12, 11, 16, 10, 4, 19, 6, 5, 15, 13, 11, 17, 10, 18, 7, 3, 4, 9, 14, 8, 10, 4, 19,...</td>\n",
       "    </tr>\n",
       "    <tr>\n",
       "      <th>1</th>\n",
       "      <td>2</td>\n",
       "      <td>A group of children is playing in the house and there is no man standing in the background</td>\n",
       "      <td>A group of kids is playing in a yard and an old man is standing in the background</td>\n",
       "      <td>NEUTRAL</td>\n",
       "      <td>0</td>\n",
       "      <td>[&lt;s&gt;, a, group, of, children, is, playing, in, the, house, and, there, is, no, man, standing, in...</td>\n",
       "      <td>[2, 4, 9, 14, 20, 11, 16, 10, 18, 21, 6, 23, 11, 22, 13, 17, 10, 18, 7, 3, 4, 9, 14, 12, 11, 16,...</td>\n",
       "    </tr>\n",
       "    <tr>\n",
       "      <th>2</th>\n",
       "      <td>3</td>\n",
       "      <td>The young boys are playing outdoors and the man is smiling nearby</td>\n",
       "      <td>The kids are playing outdoors near a man with a smile</td>\n",
       "      <td>ENTAILMENT</td>\n",
       "      <td>1</td>\n",
       "      <td>[&lt;s&gt;, the, young, boys, are, playing, outdoors, and, the, man, is, smiling, nearby, &lt;sep&gt;, the, ...</td>\n",
       "      <td>[2, 18, 31, 8, 24, 16, 27, 6, 18, 13, 11, 29, 26, 3, 18, 12, 24, 16, 27, 25, 4, 13, 30, 4, 28, 1]</td>\n",
       "    </tr>\n",
       "    <tr>\n",
       "      <th>3</th>\n",
       "      <td>5</td>\n",
       "      <td>The kids are playing outdoors near a man with a smile</td>\n",
       "      <td>A group of kids is playing in a yard and an old man is standing in the background</td>\n",
       "      <td>NEUTRAL</td>\n",
       "      <td>0</td>\n",
       "      <td>[&lt;s&gt;, the, kids, are, playing, outdoors, near, a, man, with, a, smile, &lt;sep&gt;, a, group, of, kids...</td>\n",
       "      <td>[2, 18, 12, 24, 16, 27, 25, 4, 13, 30, 4, 28, 3, 4, 9, 14, 12, 11, 16, 10, 4, 19, 6, 5, 15, 13, ...</td>\n",
       "    </tr>\n",
       "    <tr>\n",
       "      <th>4</th>\n",
       "      <td>9</td>\n",
       "      <td>The young boys are playing outdoors and the man is smiling nearby</td>\n",
       "      <td>A group of kids is playing in a yard and an old man is standing in the background</td>\n",
       "      <td>NEUTRAL</td>\n",
       "      <td>0</td>\n",
       "      <td>[&lt;s&gt;, the, young, boys, are, playing, outdoors, and, the, man, is, smiling, nearby, &lt;sep&gt;, a, gr...</td>\n",
       "      <td>[2, 18, 31, 8, 24, 16, 27, 6, 18, 13, 11, 29, 26, 3, 4, 9, 14, 12, 11, 16, 10, 4, 19, 6, 5, 15, ...</td>\n",
       "    </tr>\n",
       "  </tbody>\n",
       "</table>\n",
       "</div>"
      ],
      "text/plain": [
       "   pair_ID                                                                                  sentence_A                                                                         sentence_B entailment_judgment  entailment_id                                                                                          sentence_AB  \\\n",
       "0        1           A group of kids is playing in a yard and an old man is standing in the background       A group of boys in a yard is playing and a man is standing in the background             NEUTRAL              0  [<s>, a, group, of, kids, is, playing, in, a, yard, and, an, old, man, is, standing, in, the, ba...   \n",
       "1        2  A group of children is playing in the house and there is no man standing in the background  A group of kids is playing in a yard and an old man is standing in the background             NEUTRAL              0  [<s>, a, group, of, children, is, playing, in, the, house, and, there, is, no, man, standing, in...   \n",
       "2        3                           The young boys are playing outdoors and the man is smiling nearby                              The kids are playing outdoors near a man with a smile          ENTAILMENT              1  [<s>, the, young, boys, are, playing, outdoors, and, the, man, is, smiling, nearby, <sep>, the, ...   \n",
       "3        5                                       The kids are playing outdoors near a man with a smile  A group of kids is playing in a yard and an old man is standing in the background             NEUTRAL              0  [<s>, the, kids, are, playing, outdoors, near, a, man, with, a, smile, <sep>, a, group, of, kids...   \n",
       "4        9                           The young boys are playing outdoors and the man is smiling nearby  A group of kids is playing in a yard and an old man is standing in the background             NEUTRAL              0  [<s>, the, young, boys, are, playing, outdoors, and, the, man, is, smiling, nearby, <sep>, a, gr...   \n",
       "\n",
       "                                                                                              word_idx  \n",
       "0  [2, 4, 9, 14, 12, 11, 16, 10, 4, 19, 6, 5, 15, 13, 11, 17, 10, 18, 7, 3, 4, 9, 14, 8, 10, 4, 19,...  \n",
       "1  [2, 4, 9, 14, 20, 11, 16, 10, 18, 21, 6, 23, 11, 22, 13, 17, 10, 18, 7, 3, 4, 9, 14, 12, 11, 16,...  \n",
       "2    [2, 18, 31, 8, 24, 16, 27, 6, 18, 13, 11, 29, 26, 3, 18, 12, 24, 16, 27, 25, 4, 13, 30, 4, 28, 1]  \n",
       "3  [2, 18, 12, 24, 16, 27, 25, 4, 13, 30, 4, 28, 3, 4, 9, 14, 12, 11, 16, 10, 4, 19, 6, 5, 15, 13, ...  \n",
       "4  [2, 18, 31, 8, 24, 16, 27, 6, 18, 13, 11, 29, 26, 3, 4, 9, 14, 12, 11, 16, 10, 4, 19, 6, 5, 15, ...  "
      ]
     },
     "execution_count": 230,
     "metadata": {},
     "output_type": "execute_result"
    }
   ],
   "source": [
    "# Create the train dataset\n",
    "sick_dataset_train = SickDataset(df_train, vocabulary_size)\n",
    "sick_dataset_train.df.head()"
   ]
  },
  {
   "cell_type": "code",
   "execution_count": 231,
   "metadata": {},
   "outputs": [
    {
     "data": {
      "image/png": "[encoded data removed]",
      "text/plain": [
       "<Figure size 1440x648 with 1 Axes>"
      ]
     },
     "metadata": {
      "needs_background": "dark"
     },
     "output_type": "display_data"
    }
   ],
   "source": [
    "sick_dataset_train.plotVocabularyCoverage()"
   ]
  },
  {
   "cell_type": "code",
   "execution_count": 138,
   "metadata": {},
   "outputs": [
    {
     "name": "stdout",
     "output_type": "stream",
     "text": [
      "1124\n",
      "[['a', 1413], ['is', 946], ['the', 537], ['<sep>', 500], ['<s>', 500], ['</s>', 500], ['man', 275], ['in', 270], ['and', 256], ['on', 193], ['are', 170], ['woman', 151], ['of', 136], ['playing', 121], ['dog', 110], ['with', 93], ['white', 68], ['an', 67], ['by', 67], ['being', 67], ['no', 66], ['girl', 65], ['person', 62], ['wearing', 60], ['there', 60], ['running', 60], ['at', 59], ['standing', 57], ['two', 54], ['boy', 53], ['water', 52], ['people', 52], ['black', 49], ['into', 46], ['blue', 45], ['some', 45], ['guitar', 44], ['jumping', 36], ['sitting', 36], ['to', 33], ['young', 33], ['group', 32], ['not', 32], ['grass', 31], ['dancing', 30], ['ball', 29], ['walking', 29], ['riding', 29], ['through', 28], ['up', 27], ['slicing', 25], ['green', 25], ['her', 25], ['one', 24], ['down', 24], ['red', 24], ['looking', 23], ['cutting', 23], ['shirt', 23], ['climbing', 22], ['his', 22], ['near', 22], ['men', 22], ['small', 22], ['brown', 21], ['bike', 21], ['who', 21], ['horse', 20], ['for', 20], ['potato', 19], ['flute', 19], ['child', 19], ['eating', 19], ['doing', 19], ['front', 18], ['dogs', 18], ['singing', 18], ['air', 17], ['road', 17], ['holding', 17], ['car', 17], ['children', 17], ['beach', 16], ['which', 16], ['hair', 16], ['street', 16], ['pink', 16], ['toy', 15], ['out', 15], ['rope', 15], ['large', 15], ['talking', 15], ['little', 15], ['that', 14], ['yellow', 14], ['someone', 14], ['its', 13], ['boys', 13], ['big', 13], ['cat', 13], ['lady', 13], ['field', 13], ['dirt', 12], ['three', 12], ['watching', 12], ['swimming', 12], ['another', 12], ['monkey', 11], ['outdoors', 11], ['over', 11], ['has', 11], ['mouth', 11], ['top', 11], ['hat', 11], ['player', 11], ['driving', 11], ['jacket', 11], ['football', 10], ['colored', 10], ['played', 10], ['putting', 10], ['table', 10], ['camera', 10], ['tree', 10], ['women', 9], ['kicking', 9], ['snow', 9], ['four', 9], ['few', 9], ['area', 9], ['soccer', 9], ['next', 9], ['room', 9], ['from', 9], ['drawing', 9], ['throwing', 8], ['ocean', 8], ['dressed', 8], ['together', 8], ['race', 8], ['karate', 8], ['band', 8], ['off', 8], ['rock', 8], ['park', 8], ['chopping', 8], ['jersey', 8], ['pool', 8], ['across', 8], ['tomato', 8], ['fighting', 8], ['tennis', 7], ['uniform', 7], ['carrot', 7], ['sand', 7], ['onion', 7], ['piano', 7], ['other', 7], ['meat', 7], ['opening', 7], ['pants', 7], ['outside', 7], ['kid', 7], ['city', 7], ['gym', 7], ['rider', 7], ['inside', 7], ['splashing', 7], ['lying', 7], ['bowl', 7], ['', 6], ['dark', 6], ['wave', 6], ['purple', 6], ['sticking', 6], ['boat', 6], ['helmet', 6], ['taking', 6], ['instrument', 6], ['container', 6], ['boxing', 6], ['crowd', 6], ['plastic', 6], ['motocross', 6], ['fountain', 6], ['pieces', 6], ['exercises', 6], ['pan', 6], ['biker', 6], ['getting', 6], ['knives', 6], ['fish', 6], ['motorcycle', 6], ['wall', 6], ['ridden', 6], ['practicing', 6], ['edge', 6], ['back', 6], ['grey', 6], ['piece', 6], ['garlic', 6], ['eaten', 6], ['machine', 6], ['cooking', 6], ['sidewalk', 6], ['pot', 6], ['tall', 6], ['jeans', 6], ['sunset', 6], ['away', 6], ['cameras', 6], ['bench', 6], ['background', 6], ['several', 6], ['wooden', 5], ['blowing', 5], ['going', 5], ['along', 5], ['girl,', 5], ['tongue', 5], ['covered', 5], ['hill', 5], ['under', 5], ['made', 5], ['clothing', 5], ['beside', 5], ['surfer', 5], ['food', 5], ['little,', 5], ['rocky', 5], ['instruments', 5], ['ice', 5], ['combing', 5], [\"isn't\", 5], ['carrying', 5], ['adult', 5], ['arms', 5], ['sliced', 5], ['floor', 5], ['applying', 5], ['making', 5], ['baby', 5], ['blond', 5], ['protective', 5], ['electric', 5], ['leaping', 5], ['behind', 5], ['pouring', 4], ['skateboarder', 4], ['trampoline', 4], ['shallow', 4], ['tossing', 4], ['gloves', 4], ['full', 4], ['woods', 4], ['restaurant', 4], ['snowy', 4], ['day', 4], ['resting', 4], ['girls', 4], ['missing', 4], ['violin', 4], ['it', 4], ['octopus', 4], ['sunglasses', 4], ['vending', 4], ['amphitheater', 4], ['practitioner', 4], ['snake', 4], ['paddling', 4], ['orange', 4], ['kids', 4], ['parking', 4], ['slide', 4], ['watermelon', 4], ['door', 4], ['t-shirt', 4], ['preparing', 4], ['ramp', 4], ['bull', 4], ['costumes', 4], ['father', 4], ['yard', 4], ['guinea', 4], ['hand', 4], ['raft', 4], ['dish', 4], ['cliff', 4], ['laying', 4], ['head', 4], ['rocks', 4], ['sound', 4], ['ingredients', 4], ['body', 4], ['side', 4], ['dim', 4], ['held', 4], ['swim', 4], ['fingers', 4], ['pork', 4], ['gear', 4], ['kittens', 4], ['picture', 4], ['eyelid', 4], ['hitting', 4], ['leaning', 4], ['scarf', 4], ['trick', 4], ['smiling', 4], ['bamboo', 3], ['mountain', 3], ['ginger', 3], ['chef', 3], ['happily', 3], ['trays', 3], ['surfing', 3], ['vehicle', 3], ['reindeer', 3], ['snowboarder', 3], ['racing', 3], ['bicycle', 3], ['light', 3], ['oil', 3], ['sunny', 3], ['stirring', 3], ['sliding', 3], ['rain', 3], ['garage', 3], ['super', 3], ['very', 3], ['elegant', 3], ['paint', 3], ['strip', 3], ['sumo', 3], ['branch', 3], ['racers', 3], ['emptying', 3], ['track', 3], ['topless', 3], ['umbrella', 3], ['using', 3], ['beer', 3], ['golden', 3], ['seated', 3], ['small,', 3], ['sandy', 3], ['competition', 3], ['pig', 3], ['strumming', 3], ['pizza', 3], ['microphone', 3], ['ear', 3], ['steps', 3], ['building', 3], ['pasta', 3], ['mother', 3], ['family', 3], ['onions', 3], ['against', 3], ['wooded', 3], ['driver', 3], ['cars', 3], ['soaker', 3], ['shorts', 3], ['breaking', 3], ['sweater', 3], ['five', 3], ['teasing', 3], ['egg', 3], ['built', 3], ['players', 3], ['wheel', 3], ['huge', 3], ['setting', 3], ['gun', 3], ['tan', 3], ['chasing', 3], ['chop', 3], ['eye', 3], ['spraying', 3], ['lot', 3], ['interview', 3], ['game', 3], ['hiking', 3], ['board', 3], ['gnawing', 3], ['pointing', 3], ['bellbottoms', 3], ['eggs', 3], ['nobody', 3], ['knife', 3], ['swinging', 3], ['older', 3], ['running,', 3], ['cap', 3], ['waves', 3], ['blonde', 3], ['buttering', 3], ['zoo', 3], ['pitcher', 3], ['exercising', 3], ['jeep', 3], ['asian', 3], ['doll', 3], ['high', 3], ['equipment', 3], ['jump', 3], ['skipping', 3], ['silver', 3], ['swing', 3], ['rugby', 3], ['barefoot', 3], ['eyebrows,', 3], ['flag', 3], ['piercings', 3], ['stage', 3], ['brushing', 3], ['trees', 3], ['outdoor', 3], ['grassy', 3], ['laughing', 3], ['torch', 3], ['fire', 3], ['lake', 3], ['adults', 3], ['striped', 3], ['bread', 3], ['plants', 2], ['ramps', 2], [\"aren't\", 2], ['fallen', 2], ['pack', 2], ['cupcake', 2], ['costume', 2], ['brick', 2], ['woman,', 2], ['blanket', 2], ['book', 2], ['lawn', 2], ['cook', 2], ['gathered', 2], ['badger', 2], ['their', 2], ['toddlers', 2], ['leotard', 2], ['underwater', 2], ['wind', 2], ['route', 2], ['surface', 2], ['tattoo', 2], ['path', 2], ['cheerleader', 2], [\"person's\", 2], ['leaving', 2], ['same', 2], ['wagon,', 2], ['tail', 2], ['lining', 2], ['recruits', 2], ['catching', 2], ['female', 2], ['blow', 2], ['makeup', 2], ['snowboarding', 2], ['tongues', 2], ['pencil', 2], ['candles', 2], ['statue', 2], ['puppy', 2], ['coat,', 2], ['straw', 2], ['reading', 2], ['past', 2], ['farm', 2], ['extended', 2], ['event', 2], ['dog,', 2], ['ringers', 2], ['surrounded', 2], ['bee', 2], ['flowers', 2], ['hiker', 2], ['crowded', 2], ['carrots', 2], ['skating', 2], ['rowing', 2], ['seating', 2], ['arrangement', 2], ['equipped', 2], ['penciling', 2], ['sea', 2], ['leather', 2], ['monitor', 2], ['corndogs', 2], ['alone', 2], ['cleaning', 2], ['shrimp', 2], ['colorful', 2], ['roof', 2], ['knees', 2], ['leaves', 2], ['stopping', 2], ['coat', 2], ['zucchini', 2], ['indoors', 2], ['extravagant', 2], ['corn', 2], ['somebody', 2], ['country', 2], ['onto', 2], ['kissed', 2], ['sign', 2], ['old,', 2], ['clove', 2], ['close', 2], ['dresses', 2], ['trainer', 2], ['hockey', 2], ['open', 2], ['brush', 2], ['sewing', 2], ['baseball', 2], ['picking', 2], ['falling', 2], ['official', 2], ['marching', 2], ['ceiling', 2], ['uniforms', 2], ['posing', 2], ['guy', 2], ['shoulders', 2], ['river', 2], ['peeling', 2], ['suit,', 2], ['beige', 2], ['landing', 2], ['climbing,', 2], ['sky', 2], ['bird', 2], ['easel', 2], ['silencer', 2], ['floating', 2], ['dropping', 2], ['shotgun', 2], ['erasing', 2], ['kitchen', 2], ['breathlessly', 2], ['snowboard', 2], ['american', 2], ['wild', 2], ['song', 2], ['vehicles', 2], ['passionately', 2], ['jacket,', 2], ['noodles', 2], ['wilderness', 2], ['shade', 2], ['train', 2], ['liner', 2], ['bunch', 2], ['leg', 2], ['goal', 2], ['mask', 2], ['trunk', 2], ['wood', 2], ['scrubbing', 2], ['drum', 2], ['tiger', 2], ['young,', 2], ['cosmetics', 2], ['kangaroo', 2], ['concrete', 2], ['each', 2], ['paper', 2], ['fur', 2], ['loudly', 2], ['handstand', 2], ['house', 2], ['large,', 2], ['filling', 2], ['shirts', 2], ['backbends', 2], ['competing', 2], ['long', 2], ['calendar', 2], ['leash', 2], ['granting', 2], ['after', 2], ['rolling', 2], ['ferrets', 2], ['chicken', 2], ['set', 2], ['axe', 2], ['turtle', 2], ['bmx', 2], ['fruit', 2], ['rollerbladers', 2], ['bay', 2], ['hut', 2], ['painted', 2], ['writing', 2], ['patterned', 2], ['saddle', 2], ['left', 2], ['boy,', 2], ['note', 2], ['animal', 2], ['goggles', 2], ['around', 2], [\"artist's\", 2], ['attentively', 2], ['put', 2], ['pepper', 2], ['stirred', 2], ['tapping', 2], ['cloak,', 2], ['sword', 2], ['licking', 2], ['showing', 2], ['box', 2], ['pony', 2], ['telephone', 2], ['bear', 2], ['mouse', 2], ['seat', 2], ['eyeshadow', 2], ['bubble', 2], ['cheese', 2], ['rides', 2], ['milk', 2], ['cattle', 2], ['sprinkling', 2], ['court', 2], ['unicycle', 2], ['dress', 2], ['fed', 2], ['really', 2], ['chaps', 2], ['skateboard', 2], ['waterfall', 2], ['suits', 2], ['tank', 2], ['tray', 2], ['sheep', 2], ['different', 2], ['officer', 2], ['stone', 2], ['ledge', 2], ['wet', 2], ['okra', 2], ['sauce', 2], ['scooter', 2], ['outward', 2], ['bridge', 2], ['paintbrush', 2], ['drawer', 2], ['school', 2], ['pen', 2], ['elaborate', 2], ['dusty', 2], ['window', 2], ['rollerblader', 2], ['screaming', 2], ['cooked', 2], ['lifting', 2], ['old', 2], ['fancy', 2], ['coating', 2], ['panda', 2], ['balcony', 2], ['mixing', 2], ['ground', 2], ['parrot', 2], ['bouncing', 2], ['multicolor', 2], ['pushing', 2], ['pants,', 2], ['calculating', 2], ['students', 2], ['touchdown', 2], ['kick', 2], ['bottles', 2], ['something', 2], ['pulling', 2], ['cheering', 2], ['burning', 2], ['cowboy', 2], ['cigarette', 2], ['basket', 1], ['daughter', 1], ['still', 1], ['clouds', 1], ['cluster', 1], ['spouting', 1], ['jumper', 1], ['cheeks', 1], ['boiling', 1], ['cage', 1], ['or', 1], ['sleeves', 1], ['boa', 1], ['staging', 1], ['grinding', 1], ['drag', 1], ['swimmers', 1], ['knocked', 1], ['phoning', 1], ['wall.', 1], ['used', 1], ['males', 1], ['quickly', 1], [\"man's\", 1], ['tiles', 1], ['cyclist', 1], ['midspeech', 1], ['weights', 1], ['cheerleaders', 1], ['grazing', 1], ['clothes', 1], ['sunset,', 1], ['flyaway', 1], ['trumpet', 1], ['war', 1], ['as', 1], ['defending', 1], ['following', 1], ['stump', 1], ['room,', 1], ['performed', 1], ['competitions', 1], ['others', 1], ['glove', 1], ['headphones', 1], ['clinging', 1], ['lovely', 1], ['nap', 1], ['lights', 1], ['chair', 1], ['waiting', 1], ['lemon', 1], ['earth', 1], ['gathering', 1], ['starting', 1], ['vegetables', 1], ['boards', 1], ['cement', 1], ['protection', 1], ['skillet', 1], ['carefully', 1], ['tail.', 1], ['almost', 1], ['ruffling', 1], ['forest', 1], ['dance', 1], ['sailing', 1], ['peeled', 1], ['gold', 1], ['tricks', 1], ['digging', 1], ['talented', 1], ['potatoes', 1], ['suit', 1], ['children,', 1], ['elephant', 1], ['beating', 1], ['furiously', 1], ['sprayed', 1], ['scared', 1], ['artificially', 1], ['sticky', 1], ['scouts', 1], ['given', 1], ['looks', 1], ['things', 1], ['snowdrift', 1], ['heads', 1], ['athletes', 1], ['mud', 1], ['perched', 1], ['plane', 1], ['moving', 1], ['beautiful', 1], ['motorbike', 1], ['leapt', 1], ['beads', 1], ['seated,', 1], ['splash', 1], ['pine,', 1], ['doctor', 1], ['raining', 1], ['investigating', 1], ['fervently', 1], ['footballer', 1], ['cub', 1], ['hats', 1], ['roped', 1], ['backpack', 1], ['grand', 1], ['keyboard', 1], ['stand', 1], ['checkered', 1], ['lookers', 1], ['pictures', 1], ['striking', 1], ['speaking', 1], ['packing', 1], ['open-air', 1], ['backwards', 1], ['flying', 1], ['jewelry', 1], ['patient', 1], ['shore', 1], ['them', 1], ['rink', 1], ['playground', 1], ['about', 1], ['sport', 1], ['classroom', 1], ['ears', 1], ['explorers', 1], ['accessories', 1], ['store', 1], ['grating', 1], ['rope,', 1], ['plant', 1], ['tree,', 1], ['meal', 1], ['sleeping', 1], ['elderly', 1], ['coming', 1], ['concealing', 1], ['nearby', 1], ['military', 1], ['mushrooms', 1], ['face', 1], ['glacial', 1], ['counter', 1], ['staring', 1], ['bald', 1], ['looked', 1], ['brushed', 1], ['barbells', 1], ['guided', 1], ['muted', 1], ['smoked', 1], ['police', 1], ['darkened', 1], ['rest', 1], ['lots', 1], ['structure', 1], ['flips', 1], ['vest', 1], ['headband', 1], ['devouring', 1], ['smoking', 1], ['tractor', 1], ['revealing', 1], ['spots', 1], ['hot', 1], ['arranging', 1], ['log', 1], ['child,', 1], ['countertop', 1], ['goalkeeper', 1], ['gears', 1], ['christmas', 1], ['shrimps', 1], ['drunk', 1], ['dry', 1], ['breeds', 1], ['pig,', 1], ['relaxing', 1], ['helmets', 1], ['carelessly', 1], ['scattering', 1], ['rising', 1], ['lunging', 1], ['spotted', 1], ['acoustic', 1], ['indian', 1], ['wading', 1], ['spotting', 1], ['furry', 1], ['new', 1], ['stream', 1], ['hurdle', 1], ['mixture', 1], ['teens', 1], ['filled', 1], ['black,', 1], ['tackled', 1], ['fiercely', 1], ['peacefully', 1], ['buttered', 1], ['wheelie', 1], ['break', 1], ['cob', 1], ['droplets', 1], ['worn', 1], ['bicycles', 1], ['planting', 1], ['collecting', 1], ['terrain', 1], ['refrigerating', 1], ['radio', 1], ['snowball', 1], ['view', 1], ['eyes', 1], ['measuring', 1], ['fried', 1], ['lounging', 1], ['maneuvering', 1], ['afghan', 1], ['measured', 1], ['tables', 1], ['advertisement', 1], ['drinking', 1], ['spitting', 1], ['hands', 1], ['kiddies', 1], ['patches', 1], ['accident', 1], ['herding', 1], ['separated', 1], ['whole', 1], ['squirting', 1], ['line', 1], ['flowing', 1], ['hunting', 1], ['middle', 1], ['elder', 1], ['sad', 1], ['way', 1], ['flower', 1], ['laid', 1], ['experiencing', 1], ['dogs,', 1], ['helping', 1], ['suite', 1], ['collar', 1], ['turning', 1], ['gate', 1], ['knee', 1], ['chopped', 1], ['tires', 1], ['mound', 1], ['healing', 1], ['performing', 1], ['bikini', 1], ['opponent', 1], ['shelf', 1], ['trekking', 1], ['content', 1], ['direction', 1], ['punching', 1], ['having', 1], ['airplane', 1], ['burned', 1], ['tire', 1], ['contains', 1], ['european', 1], ['khaki', 1], ['denying', 1], ['spread', 1], ['swimsuit', 1], ['vegetable', 1], ['eyebrows', 1], ['fence', 1], ['excitement', 1], ['butter', 1], ['biting', 1], ['dangerously', 1], ['cop', 1], ['state', 1], ['jumps', 1], ['stadium', 1], ['hanging', 1], ['acrobatics', 1], ['logs', 1], ['bed', 1], ['paperwork', 1], ['pistol', 1], ['burrowed', 1], ['fearful,', 1], ['tackling', 1], ['broccoli', 1], ['hole', 1], ['opened', 1], ['dangerous', 1], ['animated', 1], ['stick', 1], ['veteran', 1], ['scolding', 1], ['show', 1], ['cracking', 1], ['seasoning', 1], ['obstacle', 1], ['beige,', 1], ['flipping', 1], ['sofa', 1], ['pull-ups', 1], ['frog', 1], ['bucket', 1], ['go-kart', 1], ['mug', 1], ['teams', 1], ['firing', 1], ['paws', 1], ['riders', 1], ['bun', 1], ['silky', 1], ['without', 1], ['naked', 1], ['upside-down', 1], ['tower', 1], ['reloading', 1], ['rocking', 1], ['dropped', 1], ['praying', 1], ['flip', 1], ['font', 1], ['tap', 1], ['match', 1], ['couch', 1], ['harp', 1], ['vast', 1], ['bikers', 1], ['flooring', 1], ['driven', 1], ['color', 1], ['shrewdly', 1], ['thick', 1], ['designed', 1], ['kissing', 1], ['staircase', 1], ['fashion', 1], ['one,', 1], ['desert', 1], [\"dog's\", 1], ['guarding', 1], ['attached', 1], ['hooded', 1], ['talk', 1], ['carnival', 1], ['approaching', 1], ['drinks', 1], ['gray', 1], ['pursuing', 1], ['snapping', 1], ['bicyclist', 1], ['male', 1], ['armbands', 1], ['photo', 1], ['deboning', 1], ['joyful', 1], ['sawing', 1], ['recklessly', 1], ['banana', 1], ['martial', 1], ['musical', 1], ['pedestrian', 1], ['fitting', 1], ['pausing', 1], ['wrestlers', 1], ['flames', 1], ['placing', 1], ['package', 1], ['boiled', 1], ['buying', 1], ['squatting', 1], ['listening', 1], ['completely', 1], ['rail', 1], ['barrier', 1], ['breaded', 1], ['friend', 1], ['skilled', 1], ['beak', 1], ['probably', 1], ['henna', 1], ['skiing', 1], ['railing', 1], ['lazily', 1], ['rainbow', 1], ['hurling', 1], ['surfboard', 1], ['fair', 1], ['precisely', 1], ['teenage', 1], ['squirt', 1], ['mixer', 1], ['mixed', 1], ['phone', 1], ['class', 1], ['be', 1], ['knocking', 1], ['goo', 1], ['enjoying', 1], ['world', 1], ['hose', 1], ['toddler', 1], ['pebbly', 1], ['removing', 1], ['crying', 1], ['checking', 1], ['empty', 1], ['classic', 1], ['arts', 1], ['taken', 1], ['hurriedly', 1], ['motionless', 1], ['keeping', 1], ['palm', 1], ['bent', 1], ['splashed', 1], ['canoe', 1], ['onstage', 1], ['doctors', 1], ['placed', 1], ['crocheting', 1], ['cut', 1], ['perch', 1], ['glass', 1], ['trip', 1]]\n"
     ]
    }
   ],
   "source": [
    "# Create the dev dataset\n",
    "dictionary_train = sick_dataset_train.getDictionary()\n",
    "\n",
    "sick_dataset_dev = SickDataset(df_dev, vocabulary_size, dictionary_train)"
   ]
  },
  {
   "cell_type": "code",
   "execution_count": 9,
   "metadata": {},
   "outputs": [],
   "source": [
    "# Create the test dataset\n",
    "sick_dataset_test = SickDataset(df_test, vocabulary_size, dictionary_train)"
   ]
  },
  {
   "cell_type": "code",
   "execution_count": 10,
   "metadata": {
    "scrolled": true
   },
   "outputs": [
    {
     "data": {
      "text/html": [
       "<div>\n",
       "<style scoped>\n",
       "    .dataframe tbody tr th:only-of-type {\n",
       "        vertical-align: middle;\n",
       "    }\n",
       "\n",
       "    .dataframe tbody tr th {\n",
       "        vertical-align: top;\n",
       "    }\n",
       "\n",
       "    .dataframe thead th {\n",
       "        text-align: right;\n",
       "    }\n",
       "</style>\n",
       "<table border=\"1\" class=\"dataframe\">\n",
       "  <thead>\n",
       "    <tr style=\"text-align: right;\">\n",
       "      <th></th>\n",
       "      <th>0</th>\n",
       "      <th>1</th>\n",
       "      <th>2</th>\n",
       "      <th>3</th>\n",
       "      <th>4</th>\n",
       "      <th>5</th>\n",
       "      <th>6</th>\n",
       "      <th>7</th>\n",
       "      <th>8</th>\n",
       "      <th>9</th>\n",
       "      <th>...</th>\n",
       "      <th>16</th>\n",
       "      <th>17</th>\n",
       "      <th>18</th>\n",
       "      <th>19</th>\n",
       "      <th>20</th>\n",
       "      <th>21</th>\n",
       "      <th>22</th>\n",
       "      <th>23</th>\n",
       "      <th>24</th>\n",
       "      <th>25</th>\n",
       "    </tr>\n",
       "  </thead>\n",
       "  <tbody>\n",
       "    <tr>\n",
       "      <th>0</th>\n",
       "      <td>&lt;s&gt;</td>\n",
       "      <td>the</td>\n",
       "      <td>young</td>\n",
       "      <td>boys</td>\n",
       "      <td>are</td>\n",
       "      <td>playing</td>\n",
       "      <td>outdoors</td>\n",
       "      <td>and</td>\n",
       "      <td>the</td>\n",
       "      <td>man</td>\n",
       "      <td>...</td>\n",
       "      <td>are</td>\n",
       "      <td>playing</td>\n",
       "      <td>outdoors</td>\n",
       "      <td>near</td>\n",
       "      <td>a</td>\n",
       "      <td>man</td>\n",
       "      <td>with</td>\n",
       "      <td>a</td>\n",
       "      <td>smile</td>\n",
       "      <td>&lt;/s&gt;</td>\n",
       "    </tr>\n",
       "    <tr>\n",
       "      <th>1</th>\n",
       "      <td>2</td>\n",
       "      <td>18</td>\n",
       "      <td>31</td>\n",
       "      <td>8</td>\n",
       "      <td>24</td>\n",
       "      <td>16</td>\n",
       "      <td>27</td>\n",
       "      <td>6</td>\n",
       "      <td>18</td>\n",
       "      <td>13</td>\n",
       "      <td>...</td>\n",
       "      <td>24</td>\n",
       "      <td>16</td>\n",
       "      <td>27</td>\n",
       "      <td>25</td>\n",
       "      <td>4</td>\n",
       "      <td>13</td>\n",
       "      <td>30</td>\n",
       "      <td>4</td>\n",
       "      <td>28</td>\n",
       "      <td>1</td>\n",
       "    </tr>\n",
       "  </tbody>\n",
       "</table>\n",
       "<p>2 rows × 26 columns</p>\n",
       "</div>"
      ],
      "text/plain": [
       "    0    1      2     3    4        5         6    7    8    9   ...    16       17        18    19 20   21    22 23     24    25\n",
       "0  <s>  the  young  boys  are  playing  outdoors  and  the  man  ...   are  playing  outdoors  near  a  man  with  a  smile  </s>\n",
       "1    2   18     31     8   24       16        27    6   18   13  ...    24       16        27    25  4   13    30  4     28     1\n",
       "\n",
       "[2 rows x 26 columns]"
      ]
     },
     "execution_count": 10,
     "metadata": {},
     "output_type": "execute_result"
    }
   ],
   "source": [
    "pd.DataFrame(list(zip(sick_dataset_train.getRef(2), sick_dataset_train[2][0]))).T"
   ]
  },
  {
   "cell_type": "markdown",
   "metadata": {},
   "source": [
    "# Pretrained embeddings\n",
    "https://medium.com/@martinpella/how-to-use-pre-trained-word-embeddings-in-pytorch-71ca59249f76  \n",
    "For each word in dataset’s vocabulary, we check if it is on GloVe’s vocabulary. If it do it, we load its pre-trained word vector. Otherwise, we initialize a random vector."
   ]
  },
  {
   "cell_type": "code",
   "execution_count": 11,
   "metadata": {},
   "outputs": [],
   "source": [
    "EMBEDDINGS_SIZE = 50"
   ]
  },
  {
   "cell_type": "code",
   "execution_count": 12,
   "metadata": {},
   "outputs": [
    {
     "name": "stderr",
     "output_type": "stream",
     "text": [
      ".vector_cache/glove.6B.zip: 862MB [14:19, 1.00MB/s]                               \n",
      "100%|█████████▉| 399982/400000 [00:15<00:00, 25301.73it/s]"
     ]
    },
    {
     "name": "stdout",
     "output_type": "stream",
     "text": [
      "Downloaded: Pretained Embedding matrix: torch.Size([400000, 50])\n",
      "Adapted:    Pretained Embedding matrix: torch.Size([1502, 50])\n"
     ]
    }
   ],
   "source": [
    "from torchtext import vocab\n",
    "#vocab is shared across all the text fields\n",
    "#CAUTION: GloVe will download all embeddings locally (862 MB).\n",
    "pretrained_emb = vocab.GloVe(name='6B', dim=EMBEDDINGS_SIZE)\n",
    "\n",
    "# 0 is for the padding when using mini-batch (start at one, shift by one)\n",
    "weights_matrix = np.zeros((vocabulary_size + 2, EMBEDDINGS_SIZE)) # do not forget the unk\n",
    "\n",
    "# build a matrix of weights that will be loaded into the PyTorch embedding layer\n",
    "for word_id in sick_dataset_train.dictionary:\n",
    "    word = sick_dataset_train.dictionary[word_id]\n",
    "    if word in pretrained_emb.stoi:\n",
    "        pretrained_emb_ID = pretrained_emb.stoi[word]\n",
    "        \n",
    "        weights_matrix[word_id+1] = pretrained_emb.vectors[pretrained_emb_ID]\n",
    "    else:\n",
    "        weights_matrix[word_id+1] = np.random.normal(scale=0.6, size=(EMBEDDINGS_SIZE, ))\n",
    "        \n",
    "# UNK\n",
    "weights_matrix[vocabulary_size+1] = np.random.normal(scale=0.6, size=(EMBEDDINGS_SIZE, ))\n",
    "        \n",
    "pretrained_emb_vec = torch.tensor(weights_matrix, dtype=torch.float32)\n",
    "print(\"Downloaded: Pretained Embedding matrix: \" +  str(pretrained_emb.vectors.size()))\n",
    "print(\"Adapted:    Pretained Embedding matrix: \" +  str(pretrained_emb_vec.size()))"
   ]
  },
  {
   "cell_type": "code",
   "execution_count": 13,
   "metadata": {},
   "outputs": [
    {
     "name": "stdout",
     "output_type": "stream",
     "text": [
      "[17, -1]\n",
      "the\n",
      "tensor([ 0.4180,  0.2497, -0.4124,  0.1217,  0.3453, -0.0445, -0.4969, -0.1786,\n",
      "        -0.0007, -0.6566,  0.2784, -0.1477, -0.5568,  0.1466, -0.0095,  0.0117,\n",
      "         0.1020, -0.1279, -0.8443, -0.1218, -0.0168, -0.3328, -0.1552, -0.2313,\n",
      "        -0.1918, -1.8823, -0.7675,  0.0991, -0.4212, -0.1953,  4.0071, -0.1859,\n",
      "        -0.5229, -0.3168,  0.0006,  0.0074,  0.1778, -0.1590,  0.0120, -0.0542,\n",
      "        -0.2987, -0.1575, -0.3476, -0.0456, -0.4425,  0.1878,  0.0028, -0.1841,\n",
      "        -0.1151, -0.7858])\n"
     ]
    }
   ],
   "source": [
    "print(sick_dataset_train.dictionary.doc2idx([\"the\", \"The\"]))\n",
    "print(sick_dataset_train.dictionary[17])\n",
    "print(pretrained_emb_vec[17+1])\n",
    "# Glove dim=50 word=the vector[:4] = 0.418 0.24968 -0.41242 0.1217"
   ]
  },
  {
   "cell_type": "markdown",
   "metadata": {},
   "source": [
    "# To DataLoader"
   ]
  },
  {
   "cell_type": "code",
   "execution_count": 14,
   "metadata": {},
   "outputs": [
    {
     "name": "stderr",
     "output_type": "stream",
     "text": [
      "\r",
      "100%|█████████▉| 399982/400000 [00:30<00:00, 25301.73it/s]"
     ]
    }
   ],
   "source": [
    "from torch.utils.data import DataLoader"
   ]
  },
  {
   "cell_type": "code",
   "execution_count": 15,
   "metadata": {},
   "outputs": [],
   "source": [
    "def pad_collate(batch):\n",
    "    seqs_labels = np.array(batch)[:,1]\n",
    "    \n",
    "    vectorized_seqs = np.array(batch)[:,0]\n",
    "    seq_lengths = torch.LongTensor([len(x) for x in vectorized_seqs])\n",
    "    \n",
    "    seq_tensor = torch.zeros((len(vectorized_seqs), seq_lengths.max())).long()\n",
    "    for idx, (seq, seq_len) in enumerate(zip(vectorized_seqs, seq_lengths)):\n",
    "        seq_tensor[idx, :seq_len] = torch.LongTensor(seq)\n",
    "        \n",
    "    vectorized_seqs = np.array(seq_tensor)\n",
    "    \n",
    "    return torch.tensor(vectorized_seqs), torch.LongTensor([ x for x in seqs_labels])\n",
    "\n",
    "\n",
    "BATCH_SIZE = 8\n",
    "\n",
    "train_loader = DataLoader(dataset=sick_dataset_train,\n",
    "                          batch_size=BATCH_SIZE, shuffle=True, collate_fn=pad_collate)\n",
    "\n",
    "dev_loader = DataLoader(dataset=sick_dataset_dev,\n",
    "                          batch_size=1, shuffle=False)\n",
    "\n",
    "test_loader = DataLoader(dataset=sick_dataset_test,\n",
    "                          batch_size=1, shuffle=False)\n",
    "\n",
    "# Debug the padding\n",
    "# display([ x for x in enumerate(train_loader)][0]) # has padding (sample of same size padded with 0)\n",
    "# display([ x for x in enumerate(dev_loader)][0]) # no batch == no padding"
   ]
  },
  {
   "cell_type": "markdown",
   "metadata": {},
   "source": [
    "# Evaluation helpers"
   ]
  },
  {
   "cell_type": "code",
   "execution_count": 16,
   "metadata": {},
   "outputs": [],
   "source": [
    "from sklearn.metrics import confusion_matrix\n",
    "from sklearn.metrics import accuracy_score\n",
    "\n",
    "from sklearn.metrics import precision_recall_fscore_support\n",
    "\n",
    "import itertools\n",
    "\n",
    "def confusion_scores(total_labels, total_pred):\n",
    "    classes = SickDataset.text_label\n",
    "    title='Confusion matrix'\n",
    "    \n",
    "    cm = confusion_matrix(total_labels, total_pred, labels=[0, 1, 2])\n",
    "    \n",
    "    plt.rcParams[\"figure.figsize\"] = [6, 5]\n",
    "    plt.imshow(cm, interpolation='nearest', cmap=plt.cm.Blues)\n",
    "    plt.title(title, color='gray', fontsize=20)\n",
    "    plt.colorbar()\n",
    "    tick_marks = np.arange(len(classes))\n",
    "    plt.xticks(tick_marks, [c.lower() for c in classes], rotation=45 , style='italic', color='gray', fontsize=12)\n",
    "    plt.yticks(tick_marks, [c.lower() for c in classes], color='gray', style='italic', fontsize=12)\n",
    "\n",
    "    thresh = cm.max() / 2.\n",
    "    for i, j in itertools.product(range(cm.shape[0]), range(cm.shape[1])):\n",
    "        plt.text(j, i, format(cm[i, j], 'd'),\n",
    "                 horizontalalignment=\"center\",\n",
    "                 color=\"white\" if cm[i, j] > thresh else \"black\")\n",
    "\n",
    "    plt.ylabel('True label', color='gray', fontsize=14)\n",
    "    plt.xlabel('Predicted label', color='gray', fontsize=14)\n",
    "    plt.tight_layout()\n",
    "\n",
    "\n",
    "def evaluate(model, loader, whileTraining=False, criterion=None):\n",
    "    \"\"\"\n",
    "    Displays the confusion_matrix the precision recall fscore\n",
    "    If in whileTrainnig Mode only return the accuracy and loss\n",
    "    \"\"\"\n",
    "    model.eval()\n",
    "    with torch.no_grad():\n",
    "        total_labels = []\n",
    "        total_pred = []\n",
    "        for _, (data, target) in enumerate(loader):\n",
    "\n",
    "                data = data.to(device)\n",
    "                target = target.to(device)\n",
    "\n",
    "                output = rnn(data)\n",
    "\n",
    "                # Get the Accuracy\n",
    "                _, predicted = torch.max(output.data, dim=1)\n",
    "                correct = (predicted == target).sum().item()\n",
    "                \n",
    "                total_labels.append(list(target.cpu().numpy()))\n",
    "                total_pred.append(list(predicted.cpu().numpy()))\n",
    "                \n",
    "        model.train()\n",
    "        if whileTraining and criterion!=None:\n",
    "            loss = criterion(output, target)\n",
    "            return ((accuracy_score(total_labels, total_pred) * 100), loss)\n",
    "\n",
    "                \n",
    "        confusion_scores(total_labels, total_pred)\n",
    "        \n",
    "        print(\"Accuracy:  {:.4f}\".format(accuracy_score(total_labels, total_pred)))\n",
    "        \n",
    "        # compute per-label precisions, recalls, F1-scores, and supports instead of averaging \n",
    "        metrics = precision_recall_fscore_support(\n",
    "                                        total_labels, total_pred,\n",
    "                                        average=None, labels=[0, 1, 2])\n",
    "        \n",
    "        df = pd.DataFrame(list(metrics), index=['Precision', 'Recall', 'Fscore', 'support'],\n",
    "                                   columns=SickDataset.text_label)\n",
    "        df = df.drop(['support'], axis=0)\n",
    "        display(df.T)\n",
    "        \n"
   ]
  },
  {
   "cell_type": "markdown",
   "metadata": {},
   "source": [
    "# Create the RNN Model"
   ]
  },
  {
   "cell_type": "code",
   "execution_count": 17,
   "metadata": {},
   "outputs": [],
   "source": [
    "from torch import nn"
   ]
  },
  {
   "cell_type": "code",
   "execution_count": 18,
   "metadata": {},
   "outputs": [
    {
     "name": "stdout",
     "output_type": "stream",
     "text": [
      "RNNClassifier(\n",
      "  (embedding): Embedding(1502, 50, padding_idx=0)\n",
      "  (rnn): GRU(50, 21, batch_first=True, bidirectional=True)\n",
      "  (fc1): Linear(in_features=42, out_features=3, bias=True)\n",
      "  (softmax): Softmax()\n",
      ")\n"
     ]
    }
   ],
   "source": [
    "class RNNClassifier(nn.Module):\n",
    "    # Our model\n",
    "\n",
    "    def __init__(self, input_voc_size, embedding_size, hidden_size):\n",
    "        super(RNNClassifier, self).__init__()\n",
    "        \n",
    "        self.input_voc_size = input_voc_size\n",
    "        self.embedding_size = embedding_size\n",
    "        self.hidden_size = hidden_size\n",
    "        self.rnn_out_size = hidden_size * 2\n",
    "\n",
    "        \n",
    "        self.num_classes = 3\n",
    "        \n",
    "        # Add the padding token (0) (+1 to voc_size)\n",
    "        # Pads the output with the embedding vector at padding_idx whenever it encounters the index..\n",
    "        self.embedding = nn.Embedding(input_voc_size+1, embedding_size, padding_idx=0)\n",
    "        # Load the pretrained embeddings\n",
    "        #self.embedding.weight = nn.Parameter(pretrained_emb_vec) \n",
    "        # embeddings fine-tuning\n",
    "        self.embedding.weight.requires_grad = False\n",
    "        \n",
    "        self.rnn = nn.GRU(\n",
    "              input_size=embedding_size,\n",
    "              hidden_size=hidden_size,\n",
    "              batch_first=True,\n",
    "              bidirectional=True,\n",
    "        )\n",
    "        \n",
    "        self.fc1 = nn.Linear(self.rnn_out_size, self.num_classes)\n",
    "        self.softmax = nn.Softmax(dim=1)\n",
    "        \n",
    "    # input shape: B x S (input size)\n",
    "    def forward(self, x):\n",
    "        \n",
    "        vprint(\"\\nsize input\", x.size())\n",
    "        batch_size = x.size(0)\n",
    "        \n",
    "        # Initialize hidden (num_layers * num_directions, batch_size, hidden_size)\n",
    "        h_0 = torch.zeros(2, batch_size, self.hidden_size)\n",
    "        vprint(\"size hidden init\", h_0.size())\n",
    "        \n",
    "        # When creating new variables inside a model (like the hidden state in an RNN/GRU/LSTM),\n",
    "        # make sure to also move them to the device (GPU or CPU).\n",
    "        h_0 = h_0.to(device)\n",
    "\n",
    "        # Embedding B x S -> B x S x I (embedding size)\n",
    "        emb = self.embedding(x)\n",
    "        vprint(\"size Embedding\", emb.size())\n",
    "        \n",
    "        # Propagate embedding through RNN\n",
    "        # Input: (batch, seq_len, embedding_size)\n",
    "        # h_0: (num_layers * num_directions, batch, hidden_size)\n",
    "        out, hidden = self.rnn(emb, h_0)\n",
    "        \n",
    "        vprint(\"size hidden\", hidden.size())\n",
    "        \n",
    "        rnn_out = torch.cat((hidden[0], hidden[1]), 1)\n",
    "        vprint(\"size rnn out\", rnn_out.size())\n",
    "        \n",
    "        \n",
    "        # Use the last layer output as FC's input\n",
    "        layout_fc1 = self.fc1(rnn_out)\n",
    "        vprint(\"size layout fc1\", layout_fc1.size())\n",
    "        \n",
    "        fc_output = self.softmax(layout_fc1)\n",
    "        \n",
    "        return fc_output    \n",
    "    \n",
    "# Add the unknown token (+1 to voc_size)\n",
    "rnn = RNNClassifier(vocabulary_size+1, EMBEDDINGS_SIZE, 21)\n",
    "rnn.to(device)\n",
    "print(rnn)\n",
    "\n",
    "# Set loss and optimizer function\n",
    "# CrossEntropyLoss = LogSoftmax + NLLLoss\n",
    "weights = [1-((sick_dataset_train.df['entailment_id'] == i).sum() / len(sick_dataset_train)) for i in range(3)]\n",
    "class_weights = torch.FloatTensor(weights).to(device)\n",
    "criterion = torch.nn.CrossEntropyLoss(weight=class_weights)\n",
    "\n",
    "optimizer = torch.optim.Adam(rnn.parameters(), lr=0.002)"
   ]
  },
  {
   "cell_type": "markdown",
   "metadata": {},
   "source": [
    "# Training the Model "
   ]
  },
  {
   "cell_type": "code",
   "execution_count": 19,
   "metadata": {
    "scrolled": false
   },
   "outputs": [
    {
     "name": "stdout",
     "output_type": "stream",
     "text": [
      "Epoch [  1/35] | Step [ 2248/4500 (100%)] | Loss 1.087 | Accuracy 55.58% @ Loss_dev 0.674 | Accuracy_dev 59.00%\n",
      "Epoch [  2/35] | Step [ 2248/4500 (100%)] | Loss 1.076 | Accuracy 54.13% @ Loss_dev 0.646 | Accuracy_dev 59.40%\n",
      "Epoch [  3/35] | Step [ 2248/4500 (100%)] | Loss 0.774 | Accuracy 58.09% @ Loss_dev 0.583 | Accuracy_dev 59.00%\n",
      "Epoch [  4/35] | Step [ 2248/4500 (100%)] | Loss 0.833 | Accuracy 59.89% @ Loss_dev 0.559 | Accuracy_dev 59.00%\n",
      "Epoch [  5/35] | Step [ 2248/4500 (100%)] | Loss 1.266 | Accuracy 62.96% @ Loss_dev 0.561 | Accuracy_dev 57.00%\n",
      "Epoch [  6/35] | Step [ 2248/4500 (100%)] | Loss 0.687 | Accuracy 65.49% @ Loss_dev 0.554 | Accuracy_dev 58.80%\n",
      "Epoch [  7/35] | Step [ 2248/4500 (100%)] | Loss 0.644 | Accuracy 67.47% @ Loss_dev 0.555 | Accuracy_dev 58.00%\n",
      "Epoch [  8/35] | Step [ 2248/4500 (100%)] | Loss 0.970 | Accuracy 69.40% @ Loss_dev 0.555 | Accuracy_dev 58.40%\n",
      "Epoch [  9/35] | Step [ 2248/4500 (100%)] | Loss 1.203 | Accuracy 72.24%  @ Loss_dev 0.552 | Accuracy_dev 60.60%\n",
      "Epoch [ 10/35] | Step [ 2248/4500 (100%)] | Loss 0.575 | Accuracy 74.16% @ Loss_dev 0.552 | Accuracy_dev 61.20%\n",
      "Epoch [ 11/35] | Step [ 2248/4500 (100%)] | Loss 1.064 | Accuracy 76.76% @ Loss_dev 0.552 | Accuracy_dev 61.80%\n",
      "Epoch [ 12/35] | Step [ 2248/4500 (100%)] | Loss 0.993 | Accuracy 76.22% @ Loss_dev 0.551 | Accuracy_dev 60.60%\n",
      "Epoch [ 13/35] | Step [ 2248/4500 (100%)] | Loss 0.572 | Accuracy 78.07% @ Loss_dev 0.551 | Accuracy_dev 60.60%\n",
      "Epoch [ 14/35] | Step [ 2248/4500 (100%)] | Loss 0.753 | Accuracy 78.89% @ Loss_dev 0.551 | Accuracy_dev 60.40%\n",
      "Epoch [ 15/35] | Step [ 2248/4500 (100%)] | Loss 0.566 | Accuracy 79.13% @ Loss_dev 0.551 | Accuracy_dev 60.80%\n",
      "Epoch [ 16/35] | Step [ 2248/4500 (100%)] | Loss 0.601 | Accuracy 79.93% @ Loss_dev 0.551 | Accuracy_dev 61.60%\n",
      "Epoch [ 17/35] | Step [ 2248/4500 (100%)] | Loss 1.171 | Accuracy 80.80% @ Loss_dev 0.551 | Accuracy_dev 59.60%\n",
      "Epoch [ 18/35] | Step [ 2248/4500 (100%)] | Loss 0.554 | Accuracy 81.76%  @ Loss_dev 0.551 | Accuracy_dev 57.00%\n",
      "Epoch [ 19/35] | Step [ 2248/4500 (100%)] | Loss 0.719 | Accuracy 81.64% @ Loss_dev 0.551 | Accuracy_dev 57.60%\n",
      "Epoch [ 20/35] | Step [ 2248/4500 (100%)] | Loss 0.683 | Accuracy 83.00% @ Loss_dev 0.551 | Accuracy_dev 57.60%\n",
      "Epoch [ 21/35] | Step [ 2248/4500 (100%)] | Loss 0.801 | Accuracy 83.27% @ Loss_dev 0.551 | Accuracy_dev 60.40%\n",
      "Epoch [ 22/35] | Step [ 2248/4500 (100%)] | Loss 0.873 | Accuracy 82.00% @ Loss_dev 0.551 | Accuracy_dev 58.60%\n",
      "Epoch [ 23/35] | Step [ 2248/4500 (100%)] | Loss 0.753 | Accuracy 82.51% @ Loss_dev 0.551 | Accuracy_dev 56.80%\n",
      "Epoch [ 24/35] | Step [ 2248/4500 (100%)] | Loss 0.685 | Accuracy 84.49% @ Loss_dev 0.551 | Accuracy_dev 60.00%\n",
      "Epoch [ 25/35] | Step [ 2248/4500 (100%)] | Loss 0.566 | Accuracy 83.96%  @ Loss_dev 0.551 | Accuracy_dev 58.40%\n",
      "Epoch [ 26/35] | Step [ 2248/4500 (100%)] | Loss 0.552 | Accuracy 85.33% @ Loss_dev 0.551 | Accuracy_dev 58.80%\n",
      "Epoch [ 27/35] | Step [ 2248/4500 (100%)] | Loss 0.769 | Accuracy 83.96%  @ Loss_dev 0.551 | Accuracy_dev 58.80%\n",
      "Epoch [ 28/35] | Step [ 2248/4500 (100%)] | Loss 0.630 | Accuracy 84.91% @ Loss_dev 0.551 | Accuracy_dev 56.60%\n",
      "Epoch [ 29/35] | Step [ 2248/4500 (100%)] | Loss 0.938 | Accuracy 85.62%  @ Loss_dev 0.551 | Accuracy_dev 56.60%\n",
      "Epoch [ 30/35] | Step [ 2248/4500 (100%)] | Loss 0.556 | Accuracy 86.22% @ Loss_dev 0.551 | Accuracy_dev 57.60%\n",
      "Epoch [ 31/35] | Step [ 2248/4500 (100%)] | Loss 0.591 | Accuracy 86.00% @ Loss_dev 0.551 | Accuracy_dev 60.60%\n",
      "Epoch [ 32/35] | Step [ 2248/4500 (100%)] | Loss 0.980 | Accuracy 86.47%  @ Loss_dev 0.551 | Accuracy_dev 59.00%\n",
      "Epoch [ 33/35] | Step [ 2248/4500 (100%)] | Loss 0.738 | Accuracy 85.22% @ Loss_dev 0.551 | Accuracy_dev 59.20%\n",
      "Epoch [ 34/35] | Step [ 2248/4500 (100%)] | Loss 0.592 | Accuracy 85.98% @ Loss_dev 0.551 | Accuracy_dev 59.40%\n",
      "Epoch [ 35/35] | Step [ 2248/4500 (100%)] | Loss 0.802 | Accuracy 87.51% @ Loss_dev 0.551 | Accuracy_dev 60.60%\n",
      "Learning finished!\n",
      "CPU times: user 2min 51s, sys: 2.84 s, total: 2min 54s\n",
      "Wall time: 2min 54s\n"
     ]
    }
   ],
   "source": [
    "%%time\n",
    "# Train the model\n",
    "\n",
    "num_epochs=35\n",
    "\n",
    "train_loss = []\n",
    "\n",
    "rnn.train()\n",
    "for epoch in range(num_epochs):\n",
    "    total_correct = 0\n",
    "    total_target = 0\n",
    "    for batch_idx, (data, target) in enumerate(train_loader):\n",
    "        \n",
    "        data = data.to(device)\n",
    "        target = target.to(device)\n",
    "        \n",
    "        output = rnn(data)\n",
    "        \n",
    "        vprint(output)\n",
    "        loss = criterion(output, target)\n",
    "        \n",
    "        rnn.zero_grad()\n",
    "        loss.backward()\n",
    "        optimizer.step()\n",
    "        \n",
    "        # Get the Accuracy\n",
    "        _, predicted = torch.max(output.data, dim=1)\n",
    "        correct = (predicted == target).sum().item()\n",
    "        \n",
    "        total_correct += correct\n",
    "        total_target += target.size(0)\n",
    "        \n",
    "        if batch_idx % 100 == 0 or batch_idx % 100 == 1 or batch_idx == len(train_loader)-1:\n",
    "            train_loss.append(loss.cpu().detach().numpy())\n",
    "            print('\\rEpoch [{:3}/{}] | Step [{:5}/{} ({:3.0f}%)] | Loss {:.3f} | Accuracy {:.2f}%'.format(\n",
    "                    epoch+1, num_epochs,\n",
    "                    batch_idx * len(data), \n",
    "                    len(train_loader.dataset),\n",
    "                    100. * batch_idx / len(train_loader), \n",
    "                    loss.item(), \n",
    "                    (total_correct / total_target) * 100), end=' ')\n",
    "            \n",
    "        if Verbose:\n",
    "            break\n",
    "            \n",
    "    accuracy_dev, loss_dev = evaluate(rnn, dev_loader, criterion=criterion, whileTraining=True)\n",
    "    print(\"@ Loss_dev {:.3f} | Accuracy_dev {:.2f}%\".format(loss_dev, accuracy_dev))\n",
    "\n",
    "\n",
    "print(\"Learning finished!\")"
   ]
  },
  {
   "cell_type": "code",
   "execution_count": 20,
   "metadata": {
    "scrolled": false
   },
   "outputs": [
    {
     "data": {
      "application/vnd.jupyter.widget-view+json": {
       "model_id": "9a222496f03d47df9eef5708e30206e5",
       "version_major": 2,
       "version_minor": 0
      },
      "text/plain": [
       "interactive(children=(IntSlider(value=31, description='smooth', max=201, min=5, step=4), Output()), _dom_class…"
      ]
     },
     "metadata": {},
     "output_type": "display_data"
    }
   ],
   "source": [
    "from scipy.signal import savgol_filter\n",
    "import ipywidgets as widgets\n",
    "from ipywidgets import interact\n",
    "\n",
    "def update_losses(smooth=31):\n",
    "    plt.rcParams[\"figure.figsize\"] = [9, 7]\n",
    "    plt.title(\"Loss Curves\", color='gray', fontsize=20)\n",
    "    plt.xlabel('Steps', fontsize=16, color='gray')\n",
    "    plt.ylabel('Loss', fontsize=16, color='gray')\n",
    "    _line, = plt.plot(train_loss)\n",
    "    _line.set_ydata(savgol_filter(train_loss, smooth, 3))\n",
    "\n",
    "interact(update_losses, smooth=(5, 201, 4));\n"
   ]
  },
  {
   "cell_type": "markdown",
   "metadata": {},
   "source": [
    "# Evaluate the model on dev"
   ]
  },
  {
   "cell_type": "code",
   "execution_count": 21,
   "metadata": {},
   "outputs": [
    {
     "name": "stdout",
     "output_type": "stream",
     "text": [
      "Accuracy:  0.6060\n"
     ]
    },
    {
     "data": {
      "text/html": [
       "<div>\n",
       "<style scoped>\n",
       "    .dataframe tbody tr th:only-of-type {\n",
       "        vertical-align: middle;\n",
       "    }\n",
       "\n",
       "    .dataframe tbody tr th {\n",
       "        vertical-align: top;\n",
       "    }\n",
       "\n",
       "    .dataframe thead th {\n",
       "        text-align: right;\n",
       "    }\n",
       "</style>\n",
       "<table border=\"1\" class=\"dataframe\">\n",
       "  <thead>\n",
       "    <tr style=\"text-align: right;\">\n",
       "      <th></th>\n",
       "      <th>Precision</th>\n",
       "      <th>Recall</th>\n",
       "      <th>Fscore</th>\n",
       "    </tr>\n",
       "  </thead>\n",
       "  <tbody>\n",
       "    <tr>\n",
       "      <th>NEUTRAL</th>\n",
       "      <td>0.657244</td>\n",
       "      <td>0.659574</td>\n",
       "      <td>0.658407</td>\n",
       "    </tr>\n",
       "    <tr>\n",
       "      <th>ENTAILMENT</th>\n",
       "      <td>0.496403</td>\n",
       "      <td>0.479167</td>\n",
       "      <td>0.487633</td>\n",
       "    </tr>\n",
       "    <tr>\n",
       "      <th>CONTRADICTION</th>\n",
       "      <td>0.615385</td>\n",
       "      <td>0.648649</td>\n",
       "      <td>0.631579</td>\n",
       "    </tr>\n",
       "  </tbody>\n",
       "</table>\n",
       "</div>"
      ],
      "text/plain": [
       "               Precision    Recall    Fscore\n",
       "NEUTRAL         0.657244  0.659574  0.658407\n",
       "ENTAILMENT      0.496403  0.479167  0.487633\n",
       "CONTRADICTION   0.615385  0.648649  0.631579"
      ]
     },
     "metadata": {},
     "output_type": "display_data"
    },
    {
     "name": "stdout",
     "output_type": "stream",
     "text": [
      "CPU times: user 1.1 s, sys: 284 ms, total: 1.38 s\n",
      "Wall time: 1.15 s\n"
     ]
    },
    {
     "data": {
      "image/png": "[encoded data removed]",
      "text/plain": [
       "<Figure size 432x360 with 2 Axes>"
      ]
     },
     "metadata": {},
     "output_type": "display_data"
    }
   ],
   "source": [
    "%%time\n",
    "\n",
    "evaluate(rnn, dev_loader)"
   ]
  },
  {
   "cell_type": "markdown",
   "metadata": {},
   "source": [
    "# Evaluate the model on test"
   ]
  },
  {
   "cell_type": "code",
   "execution_count": 22,
   "metadata": {},
   "outputs": [
    {
     "name": "stdout",
     "output_type": "stream",
     "text": [
      "CPU times: user 0 ns, sys: 0 ns, total: 0 ns\n",
      "Wall time: 7.63 µs\n"
     ]
    }
   ],
   "source": [
    "%%time\n",
    "\n",
    "# evaluate(rnn, test_loader)"
   ]
  }
 ],
 "metadata": {
  "kernelspec": {
   "display_name": "Python 3",
   "language": "python",
   "name": "python3"
  },
  "language_info": {
   "codemirror_mode": {
    "name": "ipython",
    "version": 3
   },
   "file_extension": ".py",
   "mimetype": "text/x-python",
   "name": "python",
   "nbconvert_exporter": "python",
   "pygments_lexer": "ipython3",
   "version": "3.5.2"
  }
 },
 "nbformat": 4,
 "nbformat_minor": 2
}
